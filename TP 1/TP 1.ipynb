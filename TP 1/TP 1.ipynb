{
 "cells": [
  {
   "cell_type": "markdown",
   "id": "cc51d433",
   "metadata": {},
   "source": [
    "![image](images/um_logo.png)"
   ]
  },
  {
   "cell_type": "markdown",
   "id": "e56a4901",
   "metadata": {},
   "source": [
    "# Computación II\n"
   ]
  },
  {
   "cell_type": "markdown",
   "id": "939501ff-c015-4a38-8b27-9cd3a9f101db",
   "metadata": {},
   "source": [
    "# Trabajo Práctico Nº 1: Procesamiento de Imágenes en Paralelo\n",
    "\n",
    "## Introducción\n",
    "Este trabajo práctico consiste en desarrollar una aplicación que procese imágenes utilizando técnicas de procesamiento paralelo en Python. Los conceptos clave que se abordarán incluyen el manejo de procesos y subprocesos, la comunicación entre procesos, el manejo de señales y el uso de memoria compartida.\n",
    "\n",
    "El objetivo principal es dividir una imagen en partes iguales, aplicar un filtro matemático simple a cada parte en paralelo, y luego combinar los resultados en una imagen final. Los alumnos deberán agregar funcionalidades en cada punto.\n",
    "\n",
    "### Punto 1: Carga y División de Imágenes\n",
    "\n",
    "**Objetivo:**\n",
    "Desarrollar una función que cargue una imagen y la divida en partes iguales para ser procesadas en paralelo.\n",
    "\n",
    "**Instrucciones:**\n",
    "1. **Carga de Imagen:** Utilizar una biblioteca como `PIL` (Pillow) o `OpenCV` para cargar la imagen desde el disco.\n",
    "   - Documentación de PIL: https://pillow.readthedocs.io/en/stable/\n",
    "   - Documentación de OpenCV: https://docs.opencv.org/master/d6/d00/tutorial_py_root.html\n",
    "2. **División de Imagen:** Dividir la imagen en `n` partes iguales (donde `n` es el número de procesos a crear). Cada parte debe ser un segmento continuo de la imagen original.\n",
    "3. **Almacenamiento de Partes:** Guardar cada parte de la imagen en una lista o array para ser procesada posteriormente.\n",
    "\n",
    "### Punto 2: Procesamiento Paralelo\n",
    "\n",
    "**Objetivo:**\n",
    "Implementar el procesamiento paralelo de las partes de la imagen utilizando procesos y aplicar un filtro matemático simple.\n",
    "\n",
    "**Instrucciones:**\n",
    "1. **Definición de Filtro:** Crear una función que aplique un filtro (por ejemplo, un filtro de desenfoque) a una parte de la imagen.\n",
    "   - Documentación de `scipy.ndimage`: https://docs.scipy.org/doc/scipy/reference/ndimage.html\n",
    "2. **Creación de Procesos:** Utilizar el módulo `multiprocessing` para crear un proceso por cada parte de la imagen.\n",
    "   - Documentación de `multiprocessing`: https://docs.python.org/3/library/multiprocessing.html\n",
    "3. **Aplicación del Filtro:** Cada proceso debe aplicar el filtro a su respectiva parte de la imagen y devolver el resultado.\n",
    "\n",
    "### Punto 3: Comunicación y Sincronización\n",
    "\n",
    "**Objetivo:**\n",
    "Implementar la comunicación entre procesos utilizando Pipes y FIFO para coordinar el procesamiento.\n",
    "\n",
    "**Instrucciones:**\n",
    "1. **Comunicación con Pipes:** Utilizar `multiprocessing.Pipe` para comunicar resultados parciales entre procesos.\n",
    "   - Documentación de `multiprocessing.Pipe`: https://docs.python.org/3/library/multiprocessing.html#multiprocessing.Pipe\n",
    "2. **Proceso Coordinador:** Crear un proceso coordinador que reciba los resultados parciales de los procesos trabajadores y los combine.\n",
    "3. **Sincronización:** Asegurar que todos los procesos finalicen su ejecución antes de combinar los resultados.\n",
    "\n",
    "### Punto 4: Manejo de Señales\n",
    "\n",
    "**Objetivo:**\n",
    "Implementar el manejo de señales para permitir la interrupción controlada del procesamiento.\n",
    "\n",
    "**Instrucciones:**\n",
    "1. **Configuración de Señales:** Configurar una señal (por ejemplo, `SIGINT`) para interrumpir los procesos de forma controlada.\n",
    "   - Documentación de `signal`: https://docs.python.org/3/library/signal.html\n",
    "2. **Manejador de Señales:** Implementar un manejador de señales en el proceso principal para capturar la interrupción y realizar una limpieza adecuada.\n",
    "3. **Interrupción Controlada:** Asegurarse de que los procesos trabajadores puedan ser interrumpidos y que liberen recursos de manera segura.\n",
    "\n",
    "### Punto 5: Uso de Memoria Compartida\n",
    "\n",
    "**Objetivo:**\n",
    "Utilizar memoria compartida para almacenar resultados parciales y combinarlos en el proceso principal.\n",
    "\n",
    "**Instrucciones:**\n",
    "1. **Creación de Memoria Compartida:** Utilizar `multiprocessing.Array` para crear un array compartido entre procesos.\n",
    "   - Documentación de `multiprocessing.Array`: https://docs.python.org/3/library/multiprocessing.html#multiprocessing.Array\n",
    "2. **Almacenamiento de Resultados:** Modificar los procesos trabajadores para almacenar los resultados parciales en la memoria compartida.\n",
    "3. **Combinación de Resultados:** Leer los resultados almacenados en la memoria compartida y combinarlos en una imagen final.\n"
   ]
  }
 ],
 "metadata": {
  "kernelspec": {
   "display_name": "Python 3 (ipykernel)",
   "language": "python",
   "name": "python3"
  },
  "language_info": {
   "codemirror_mode": {
    "name": "ipython",
    "version": 3
   },
   "file_extension": ".py",
   "mimetype": "text/x-python",
   "name": "python",
   "nbconvert_exporter": "python",
   "pygments_lexer": "ipython3",
   "version": "3.10.12"
  }
 },
 "nbformat": 4,
 "nbformat_minor": 5
}
