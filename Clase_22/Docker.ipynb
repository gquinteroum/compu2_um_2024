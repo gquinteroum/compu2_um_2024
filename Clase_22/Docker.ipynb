{
 "cells": [
  {
   "cell_type": "markdown",
   "metadata": {},
   "source": [
    "<div style=\"text-align:center;\">\n",
    "  <img src=\"images/um_logo.png\" alt=\"Logo de la Universidad\" style=\"width:200px;\"/>\n",
    "</div>"
   ]
  },
  {
   "cell_type": "markdown",
   "metadata": {},
   "source": [
    "\n",
    "\n",
    "# Computación II\n",
    "\n",
    "# ***Docker***\n",
    "\n",
    "https://docs.docker.com/\n",
    "\n",
    "## Tabla de Contenidos\n",
    "1. [¿Qué es Docker?](#qué-es-docker)\n",
    "2. [Docker vs. Máquinas Virtuales](#docker-vs-máquinas-virtuales)\n",
    "3. [Instalación de Docker](#instalación-de-docker)\n",
    "4. [Conceptos Básicos de Docker](#conceptos-básicos-de-docker)\n",
    "5. [Trabajando con Contenedores](#trabajando-con-contenedores)\n",
    "6. [Imágenes Docker](#imágenes-docker)\n",
    "7. [Volúmenes en Docker](#volúmenes-en-docker)\n",
    "8. [Docker Compose](#docker-compose)\n",
    "9. [Ejercicios Prácticos](#ejercicios-prácticos)"
   ]
  },
  {
   "cell_type": "markdown",
   "metadata": {},
   "source": [
    "## 1. ¿Qué es Docker?\n",
    "\n",
    "Docker es una plataforma de código abierto que se utiliza para desarrollar, enviar y ejecutar aplicaciones de manera más eficiente. A través de la tecnología de contenedores, Docker permite que las aplicaciones y todos sus componentes (bibliotecas, entorno, archivos de configuración, etc.) se empaqueten en un contenedor único y ligero que se puede ejecutar de manera consistente en cualquier entorno.\n",
    "\n",
    "### Conceptos clave:\n",
    "- **Contenedor**: Una instancia de una imagen, que contiene la aplicación y todas sus dependencias.\n",
    "- **Imagen**: Un paquete que contiene la aplicación, sus dependencias y metadatos necesarios para ejecutarla.\n",
    "- **Dockerfile**: Un archivo de configuración que describe cómo se debe construir una imagen Docker.\n",
    "- **Docker Hub**: Un registro de imágenes públicas y privadas de Docker."
   ]
  },
  {
   "cell_type": "markdown",
   "metadata": {},
   "source": [
    "## 2. Docker vs. Máquinas Virtuales\n",
    "\n",
    "_En esta comparación, exploraremos las diferencias y similitudes entre Docker y las máquinas virtuales (VMs), dos tecnologías de virtualización ampliamente utilizadas en la industria de la tecnología._\n",
    "\n",
    "<div style=\"text-align:center;\">\n",
    "  <img src=\"images/dockervsvm.jpeg\" alt=\"Docker vs. VM\" width=\"500\"/>\n",
    "</div>\n",
    "\n",
    "- __Docker:__ Docker es una plataforma de contenedores que permite empaquetar aplicaciones y sus dependencias en contenedores ligeros y portátiles. Estos contenedores se ejecutan en un solo sistema operativo y comparten el mismo kernel, lo que los hace eficientes y rápidos.\n",
    "\n",
    "- __Máquinas Virtuales (VMs):__ Las máquinas virtuales son entornos virtualizados completos que ejecutan sistemas operativos completos. Cada VM incluye su propio kernel y recursos.\n",
    "\n",
    "### Diferencias Clave\n",
    "\n",
    "1. __Arquitectura:__\n",
    "    - Docker: Utiliza la virtualización a nivel de sistema operativo y comparte un kernel con el sistema anfitrión.\n",
    "    - Máquinas Virtuales: Emulan hardware físico y ejecutan sistemas operativos completos.\n",
    "\n",
    "2. __Rendimiento:__\n",
    "    - Docker: Es más eficiente en términos de recursos y ofrece un inicio más rápido debido a la compartición del kernel.\n",
    "    - Máquinas Virtuales: Suelen requerir más recursos y tiempo de inicio debido a la emulación de hardware.\n",
    "\n",
    "3. __Tamaño y Portabilidad:__\n",
    "    - Docker: Los contenedores son pequeños y portátiles, lo que facilita la transferencia y el despliegue.\n",
    "    - Máquinas Virtuales: Los archivos de imagen de VM son más grandes y menos portátiles.\n",
    "\n",
    "![Comparación de Arquitectura](images/Comparison-of-Docker-Container-and-Virtual-Machine-Architecture-13.png)\n",
    "\n",
    "_Fuente: [ResearchGate](https://www.researchgate.net/figure/Comparison-of-Docker-Container-and-Virtual-Machine-Architecture-13_fig1_343764931)_"
   ]
  },
  {
   "cell_type": "markdown",
   "metadata": {},
   "source": [
    "## 3. Instalación de Docker\n",
    "\n",
    "Para instalar Docker en Ubuntu/Mint, sigue estos pasos:\n",
    "\n",
    "1. Desinstala versiones antiguas:\n",
    "   ```\n",
    "   $ for pkg in docker.io docker-doc docker-compose podman-docker containerd runc; do sudo apt-get remove $pkg; done\n",
    "   ```\n",
    "\n",
    "2. Configura el repositorio apt de Docker:\n",
    "   ```\n",
    "   $ sudo apt-get update\n",
    "   $ sudo apt-get install ca-certificates curl gnupg\n",
    "   $ sudo install -m 0755 -d /etc/apt/keyrings\n",
    "   $ curl -fsSL https://download.docker.com/linux/ubuntu/gpg | sudo gpg --dearmor -o /etc/apt/keyrings/docker.gpg\n",
    "   $ sudo chmod a+r /etc/apt/keyrings/docker.gpg\n",
    "   ```\n",
    "\n",
    "3. Agrega el repositorio a las fuentes de Apt:\n",
    "   ```\n",
    "   $ echo \\\n",
    "     \"deb [arch=$(dpkg --print-architecture) signed-by=/etc/apt/keyrings/docker.gpg] https://download.docker.com/linux/ubuntu \\\n",
    "     $(. /etc/os-release && echo \"$VERSION_CODENAME\") stable\" | \\\n",
    "     sudo tee /etc/apt/sources.list.d/docker.list > /dev/null\n",
    "   $ sudo apt-get update\n",
    "   ```\n",
    "\n",
    "4. Instala Docker:\n",
    "   ```\n",
    "   $ sudo apt-get install docker-ce docker-ce-cli containerd.io docker-buildx-plugin docker-compose-plugin\n",
    "   ```\n",
    "\n",
    "> Nota: Siempre verifica la [documentación oficial de Docker](https://docs.docker.com/engine/install/) para obtener las instrucciones de instalación más actualizadas para tu sistema operativo."
   ]
  },
  {
   "cell_type": "markdown",
   "metadata": {},
   "source": [
    "## 4. Conceptos Básicos de Docker\n",
    "\n",
    "### Ejemplo: Ejecutar tu primer contenedor"
   ]
  },
  {
   "cell_type": "code",
   "execution_count": null,
   "metadata": {},
   "outputs": [],
   "source": [
    "docker run hello-world"
   ]
  },
  {
   "cell_type": "markdown",
   "metadata": {},
   "source": [
    "Este comando descarga la imagen `hello-world` si no está presente localmente y luego ejecuta un contenedor basado en esa imagen.\n",
    "\n",
    "### Ejercicio 1: Ejecuta un contenedor interactivo"
   ]
  },
  {
   "cell_type": "code",
   "execution_count": null,
   "metadata": {},
   "outputs": [],
   "source": [
    "docker run -it ubuntu bash"
   ]
  },
  {
   "cell_type": "markdown",
   "metadata": {},
   "source": [
    "Dentro del contenedor, prueba algunos comandos:\n",
    "```bash\n",
    "ls\n",
    "pwd\n",
    "echo \"Hola desde Docker!\"\n",
    "exit\n",
    "```"
   ]
  },
  {
   "cell_type": "markdown",
   "metadata": {},
   "source": [
    "## 5. Trabajando con Contenedores\n",
    "\n",
    "### Comandos básicos:\n",
    "\n",
    "- Listar contenedores en ejecución:"
   ]
  },
  {
   "cell_type": "code",
   "execution_count": null,
   "metadata": {},
   "outputs": [],
   "source": [
    "docker ps"
   ]
  },
  {
   "cell_type": "markdown",
   "metadata": {},
   "source": [
    "- Listar todos los contenedores (incluyendo los detenidos):"
   ]
  },
  {
   "cell_type": "code",
   "execution_count": null,
   "metadata": {},
   "outputs": [],
   "source": [
    "docker ps -a"
   ]
  },
  {
   "cell_type": "markdown",
   "metadata": {},
   "source": [
    "### Ejercicio 2: Gestión de contenedores\n",
    "\n",
    "1. Ejecuta un contenedor de Nginx en segundo plano:"
   ]
  },
  {
   "cell_type": "code",
   "execution_count": null,
   "metadata": {},
   "outputs": [],
   "source": [
    "docker run -d -p 8080:80 --name mi-nginx nginx"
   ]
  },
  {
   "cell_type": "markdown",
   "metadata": {},
   "source": [
    "2. Verifica que el contenedor está en ejecución:"
   ]
  },
  {
   "cell_type": "code",
   "execution_count": null,
   "metadata": {},
   "outputs": [],
   "source": [
    "docker ps"
   ]
  },
  {
   "cell_type": "markdown",
   "metadata": {},
   "source": [
    "3. Accede a http://localhost:8080 en tu navegador para ver la página de bienvenida de Nginx.\n",
    "\n",
    "4. Detén el contenedor:"
   ]
  },
  {
   "cell_type": "code",
   "execution_count": null,
   "metadata": {},
   "outputs": [],
   "source": [
    "docker stop mi-nginx"
   ]
  },
  {
   "cell_type": "markdown",
   "metadata": {},
   "source": [
    "5. Elimina el contenedor:"
   ]
  },
  {
   "cell_type": "code",
   "execution_count": null,
   "metadata": {},
   "outputs": [],
   "source": [
    "docker rm mi-nginx"
   ]
  },
  {
   "cell_type": "markdown",
   "metadata": {},
   "source": [
    "## 6. Imágenes Docker\n",
    "\n",
    "### Comandos básicos:\n",
    "\n",
    "- Listar imágenes locales:"
   ]
  },
  {
   "cell_type": "code",
   "execution_count": null,
   "metadata": {},
   "outputs": [],
   "source": [
    "docker images"
   ]
  },
  {
   "cell_type": "markdown",
   "metadata": {},
   "source": [
    "- Descargar una imagen:"
   ]
  },
  {
   "cell_type": "code",
   "execution_count": null,
   "metadata": {},
   "outputs": [],
   "source": [
    "docker pull ubuntu:latest"
   ]
  },
  {
   "cell_type": "markdown",
   "metadata": {},
   "source": [
    "### Ejercicio 3: Crear tu propia imagen\n",
    "\n",
    "1. Crea un archivo llamado `Dockerfile` con el siguiente contenido:\n",
    "\n",
    "```dockerfile\n",
    "FROM python:3.9-slim\n",
    "WORKDIR /app\n",
    "COPY . /app\n",
    "CMD [\"python\", \"app.py\"]\n",
    "```\n",
    "\n",
    "2. Crea un archivo `app.py` en el mismo directorio:\n",
    "\n",
    "```python\n",
    "print(\"¡Hola desde mi imagen personalizada!\")\n",
    "```\n",
    "\n",
    "3. Construye la imagen:"
   ]
  },
  {
   "cell_type": "code",
   "execution_count": null,
   "metadata": {},
   "outputs": [],
   "source": [
    "docker build -t mi-app-python ."
   ]
  },
  {
   "cell_type": "markdown",
   "metadata": {},
   "source": [
    "4. Ejecuta un contenedor basado en tu imagen:"
   ]
  },
  {
   "cell_type": "code",
   "execution_count": null,
   "metadata": {},
   "outputs": [],
   "source": [
    "docker run mi-app-python"
   ]
  },
  {
   "cell_type": "markdown",
   "metadata": {},
   "source": [
    "## 7. Volúmenes en Docker\n",
    "\n",
    "Los volúmenes permiten persistir y compartir datos entre contenedores y el host.\n",
    "\n",
    "### Ejemplo: Usar un volumen"
   ]
  },
  {
   "cell_type": "code",
   "execution_count": null,
   "metadata": {},
   "outputs": [],
   "source": [
    "docker run -d -v mi-volumen:/data --name contenedor-con-volumen ubuntu"
   ]
  },
  {
   "cell_type": "markdown",
   "metadata": {},
   "source": [
    "### Ejercicio 4: Trabajar con volúmenes\n",
    "\n",
    "1. Crea un volumen:"
   ]
  },
  {
   "cell_type": "code",
   "execution_count": null,
   "metadata": {},
   "outputs": [],
   "source": [
    "docker volume create mi-datos"
   ]
  },
  {
   "cell_type": "markdown",
   "metadata": {},
   "source": [
    "2. Ejecuta un contenedor montando el volumen:"
   ]
  },
  {
   "cell_type": "code",
   "execution_count": null,
   "metadata": {},
   "outputs": [],
   "source": [
    "docker run -it -v mi-datos:/datos ubuntu bash"
   ]
  },
  {
   "cell_type": "markdown",
   "metadata": {},
   "source": [
    "3. Dentro del contenedor, crea un archivo en el volumen:\n",
    "   ```bash\n",
    "   echo \"Datos persistentes\" > /datos/archivo.txt\n",
    "   exit\n",
    "   ```\n",
    "\n",
    "4. Verifica que los datos persisten ejecutando otro contenedor:"
   ]
  },
  {
   "cell_type": "code",
   "execution_count": null,
   "metadata": {},
   "outputs": [],
   "source": [
    "docker run -it -v mi-datos:/datos ubuntu cat /datos/archivo.txt"
   ]
  },
  {
   "cell_type": "markdown",
   "metadata": {},
   "source": [
    "## 8. Docker Compose\n",
    "\n",
    "Docker Compose es una herramienta para definir y ejecutar aplicaciones Docker de varios contenedores.\n",
    "\n",
    "### Ejemplo: Archivo docker-compose.yml básico\n",
    "\n",
    "```yaml\n",
    "version: '3'\n",
    "services:\n",
    "  web:\n",
    "    image: nginx\n",
    "    ports:\n",
    "      - \"8080:80\"\n",
    "  db:\n",
    "    image: mysql\n",
    "    environment:\n",
    "      MYSQL_ROOT_PASSWORD: example\n",
    "```\n",
    "\n",
    "### Ejercicio 5: Usar Docker Compose\n",
    "\n",
    "1. Crea un archivo `docker-compose.yml` con el contenido anterior.\n",
    "\n",
    "2. Inicia los servicios:"
   ]
  },
  {
   "cell_type": "code",
   "execution_count": null,
   "metadata": {},
   "outputs": [],
   "source": [
    "docker-compose up -d"
   ]
  },
  {
   "cell_type": "markdown",
   "metadata": {},
   "source": [
    "3. Verifica que los servicios están en ejecución:"
   ]
  },
  {
   "cell_type": "code",
   "execution_count": null,
   "metadata": {},
   "outputs": [],
   "source": [
    "docker-compose ps"
   ]
  },
  {
   "cell_type": "markdown",
   "metadata": {},
   "source": [
    "4. Detén y elimina los servicios:"
   ]
  },
  {
   "cell_type": "code",
   "execution_count": null,
   "metadata": {},
   "outputs": [],
   "source": [
    "docker-compose down"
   ]
  },
  {
   "cell_type": "markdown",
   "metadata": {},
   "source": [
    "## 9. Ejercicios Prácticos\n",
    "\n",
    "### Ejercicio Final: Desplegar una aplicación web simple\n",
    "\n",
    "En este ejercicio, trabajaremos con una aplicación Flask básica que utiliza Redis para contar el número de visitas. Sigue estos pasos para desplegar la aplicación usando Docker y Docker Compose.\n",
    "\n",
    "1. Crear un nuevo directorio para el proyecto y navega a él:\n",
    "   ```\n",
    "   mkdir flask-docker-app\n",
    "   cd flask-docker-app\n",
    "   ```\n",
    "\n",
    "2. Crear los siguientes archivos con el contenido proporcionado:\n",
    "\n",
    "   **app.py**\n",
    "   ```python\n",
    "   from flask import Flask\n",
    "   from redis import Redis\n",
    "\n",
    "   app = Flask(__name__)\n",
    "   redis = Redis(host='redis', port=6379)\n",
    "\n",
    "   @app.route('/')\n",
    "   def hello():\n",
    "       redis.incr('hits')\n",
    "       counter = str(redis.get('hits'), 'utf-8')\n",
    "       return f\"¡Hola, Docker! Esta página ha sido vista {counter} veces.\"\n",
    "\n",
    "   if __name__ == \"__main__\":\n",
    "       app.run(host=\"0.0.0.0\", debug=True)\n",
    "   ```\n",
    "\n",
    "   **Dockerfile**\n",
    "   ```dockerfile\n",
    "   FROM python:3.9-slim\n",
    "\n",
    "   WORKDIR /app\n",
    "\n",
    "   COPY requirements.txt .\n",
    "   RUN pip install --no-cache-dir -r requirements.txt\n",
    "\n",
    "   COPY . .\n",
    "\n",
    "   CMD [\"python\", \"app.py\"]\n",
    "   ```\n",
    "\n",
    "   **docker-compose.yml**\n",
    "   ```yaml\n",
    "   version: '3'\n",
    "   services:\n",
    "     web:\n",
    "       build: .\n",
    "       ports:\n",
    "         - \"5000:5000\"\n",
    "       volumes:\n",
    "         - .:/app\n",
    "       environment:\n",
    "         FLASK_ENV: development\n",
    "     redis:\n",
    "       image: \"redis:alpine\"\n",
    "   ```\n",
    "\n",
    "   **requirements.txt**\n",
    "   ```\n",
    "   flask\n",
    "   redis\n",
    "   ```\n",
    "\n",
    "3. Ahora es necesario construir la imagen de Docker:\n",
    "   ```\n",
    "   docker build -t flask-redis-app .\n",
    "   ```\n",
    "\n",
    "4. Ejecutar la aplicación usando Docker Compose:\n",
    "   ```\n",
    "   docker-compose up\n",
    "   ```\n",
    "\n",
    "5. Abrir un navegador y visita `http://localhost:5000`. Deberías ver un mensaje de bienvenida con un contador de visitas.\n",
    "\n",
    "6. Modificar la aplicación:\n",
    "   - Cambia el mensaje en `app.py`.\n",
    "   - Agrega una nueva ruta a la aplicación Flask.\n",
    "   - Modifica el `Dockerfile` para instalar una dependencia adicional.\n",
    "   - Actualiza `docker-compose.yml` para agregar una variable de entorno.\n",
    "\n",
    "7. Reconstruir y volver a ejecutar la aplicación para ver tus cambios:\n",
    "   ```\n",
    "   docker-compose down\n",
    "   docker-compose up --build\n",
    "   ```\n",
    "\n",
    "Este ejercicio te permitirá aplicar los conceptos de Docker que hemos aprendido, incluyendo la creación de imágenes, el uso de Docker Compose y la gestión de aplicaciones multi-contenedor.\n",
    "\n",
    "\n",
    "Probemos con esta imagen...\n",
    "docker run docker/whalesay cowsay \"Hello Docker!\""
   ]
  },
  {
   "cell_type": "code",
   "execution_count": null,
   "metadata": {},
   "outputs": [],
   "source": []
  }
 ],
 "metadata": {
  "kernelspec": {
   "display_name": "Python 3 (ipykernel)",
   "language": "python",
   "name": "python3"
  },
  "language_info": {
   "codemirror_mode": {
    "name": "ipython",
    "version": 3
   },
   "file_extension": ".py",
   "mimetype": "text/x-python",
   "name": "python",
   "nbconvert_exporter": "python",
   "pygments_lexer": "ipython3",
   "version": "3.10.12"
  }
 },
 "nbformat": 4,
 "nbformat_minor": 4
}
