{
 "cells": [
  {
   "cell_type": "markdown",
   "id": "cc51d433",
   "metadata": {},
   "source": [
    "<div align=\"center\">\n",
    "    <img src=\"images/um_logo.png\" alt=\"image\">\n",
    "</div>"
   ]
  },
  {
   "cell_type": "markdown",
   "id": "e56a4901",
   "metadata": {},
   "source": [
    "# Computación II\n"
   ]
  },
  {
   "cell_type": "markdown",
   "id": "8c696dfe",
   "metadata": {},
   "source": [
    "# Introducción a FIFOs en Linux\n",
    "\n",
    "## ¿Qué es un FIFO?\n",
    "\n",
    "FIFO, acrónimo de \"First In, First Out\", es un tipo de archivo especial en sistemas operativos Unix/Linux que se utiliza para la comunicación entre procesos. Actúa como un conducto, permitiendo que los datos fluyan de un proceso a otro de forma unidireccional. Los FIFOs también se conocen como \"named pipes\" porque, a diferencia de los pipes anónimos, tienen un nombre en el sistema de archivos.\n",
    "\n",
    "FIFOs son útiles para la comunicación entre procesos (IPC) donde los procesos de ejecución independiente necesitan intercambiar datos de manera segura y ordenada.\n",
    "\n",
    "## Creación y Uso de FIFOs\n",
    "\n",
    "### Creación de un FIFO\n",
    "\n",
    "Para crear un FIFO, se utiliza el comando `mkfifo` en la terminal. Por ejemplo:\n",
    "\n",
    "```bash\n",
    "mkfifo my_fifo\n",
    "```\n",
    "\n",
    "Esto creará un FIFO llamado my_fifo en el directorio actual.\n",
    "\n",
    "### Escritura y Lectura en un FIFO\n",
    "Los FIFOs se utilizan con operaciones estándar de lectura y escritura. Un proceso escribe datos en el FIFO utilizando la syscall (llamada al sistema) `write()` y otro proceso puede leer estos datos utilizando `read()`.\n",
    "\n",
    "Ejemplo de Escritura:"
   ]
  },
  {
   "cell_type": "code",
   "execution_count": 1,
   "id": "8426e2c9-63bc-4a2b-b353-7516bbd84444",
   "metadata": {},
   "outputs": [],
   "source": [
    "# Escritura en un FIFO usando Python\n",
    "import os\n",
    "\n",
    "fifo_path = 'my_fifo'\n",
    "with open(fifo_path, 'w') as fifo:\n",
    "    fifo.write('Hola desde el escritor!')\n"
   ]
  },
  {
   "cell_type": "markdown",
   "id": "8ace1bfb-0837-4933-a003-295479258b6c",
   "metadata": {},
   "source": [
    "Ejemplo de Lectura:"
   ]
  },
  {
   "cell_type": "code",
   "execution_count": 2,
   "id": "2413003a-62c0-41a8-9951-0d876d93e633",
   "metadata": {},
   "outputs": [
    {
     "ename": "FileNotFoundError",
     "evalue": "[Errno 2] No such file or directory: 'my_fifo'",
     "output_type": "error",
     "traceback": [
      "\u001b[0;31m---------------------------------------------------------------------------\u001b[0m",
      "\u001b[0;31mFileNotFoundError\u001b[0m                         Traceback (most recent call last)",
      "\u001b[0;32m/tmp/ipykernel_8447/1286602532.py\u001b[0m in \u001b[0;36m<module>\u001b[0;34m\u001b[0m\n\u001b[1;32m      3\u001b[0m \u001b[0;34m\u001b[0m\u001b[0m\n\u001b[1;32m      4\u001b[0m \u001b[0mfifo_path\u001b[0m \u001b[0;34m=\u001b[0m \u001b[0;34m'my_fifo'\u001b[0m\u001b[0;34m\u001b[0m\u001b[0;34m\u001b[0m\u001b[0m\n\u001b[0;32m----> 5\u001b[0;31m \u001b[0;32mwith\u001b[0m \u001b[0mopen\u001b[0m\u001b[0;34m(\u001b[0m\u001b[0mfifo_path\u001b[0m\u001b[0;34m,\u001b[0m \u001b[0;34m'r'\u001b[0m\u001b[0;34m)\u001b[0m \u001b[0;32mas\u001b[0m \u001b[0mfifo\u001b[0m\u001b[0;34m:\u001b[0m\u001b[0;34m\u001b[0m\u001b[0;34m\u001b[0m\u001b[0m\n\u001b[0m\u001b[1;32m      6\u001b[0m     \u001b[0mmessage\u001b[0m \u001b[0;34m=\u001b[0m \u001b[0mfifo\u001b[0m\u001b[0;34m.\u001b[0m\u001b[0mread\u001b[0m\u001b[0;34m(\u001b[0m\u001b[0;34m)\u001b[0m\u001b[0;34m\u001b[0m\u001b[0;34m\u001b[0m\u001b[0m\n\u001b[1;32m      7\u001b[0m     \u001b[0mprint\u001b[0m\u001b[0;34m(\u001b[0m\u001b[0;34mf'Mensaje recibido: {message}'\u001b[0m\u001b[0;34m)\u001b[0m\u001b[0;34m\u001b[0m\u001b[0;34m\u001b[0m\u001b[0m\n",
      "\u001b[0;31mFileNotFoundError\u001b[0m: [Errno 2] No such file or directory: 'my_fifo'"
     ]
    }
   ],
   "source": [
    "# Lectura de un FIFO usando Python\n",
    "import os\n",
    "\n",
    "fifo_path = 'my_fifo'\n",
    "with open(fifo_path, 'r') as fifo:\n",
    "    message = fifo.read()\n",
    "    print(f'Mensaje recibido: {message}')\n"
   ]
  },
  {
   "cell_type": "markdown",
   "id": "bd5764ce-864e-4cb3-b08e-24f227904c81",
   "metadata": {},
   "source": [
    "## Consideraciones Importantes\n",
    "- __Bloqueo:__ Los FIFOs bloquean la ejecución hasta que ambos extremos están conectados. El proceso de lectura se bloqueará hasta que haya datos para leer, y el proceso de escritura se bloqueará si el buffer está lleno.\n",
    "- __Sincronización:__ Los FIFOs no son adecuados para situaciones donde se requiere acceso concurrente por múltiples procesos sin un esquema de control.\n",
    "- __Seguridad:__ Es importante gestionar los permisos de acceso al FIFO para evitar problemas de seguridad."
   ]
  },
  {
   "cell_type": "markdown",
   "id": "c66acd7d-5de0-4b31-8915-eab3fa744d7f",
   "metadata": {},
   "source": [
    "## Casos de Uso Comunes\n",
    "- __Intercomunicación entre servicios:__ Por ejemplo, un servidor web puede comunicarse con un script de backend a través de un FIFO.\n",
    "- __Programación de flujos de trabajo:__ En un pipeline de procesamiento de datos, varios procesos pueden pasar datos de uno a otro secuencialmente usando FIFOs."
   ]
  },
  {
   "cell_type": "markdown",
   "id": "3e055550-79f8-4d1f-8b89-684a63ea4844",
   "metadata": {},
   "source": [
    "# Códigos de ejemplo"
   ]
  },
  {
   "cell_type": "code",
   "execution_count": 4,
   "id": "2fbfd656-3bd1-4736-a95c-805f798524bd",
   "metadata": {},
   "outputs": [
    {
     "name": "stdout",
     "output_type": "stream",
     "text": [
      "Parent 8447 got \"Number 000\" al 1713229028.0453935\n",
      "Parent 8447 got \"Number 001\" al 1713229029.046153\n",
      "Parent 8447 got \"Number 002\" al 1713229030.047356\n",
      "Parent 8447 got \"Number 003\" al 1713229031.048404\n",
      "Parent 8447 got \"Number 004\" al 1713229032.0495973\n",
      "Parent 8447 got \"Number 000\" al 1713229033.0511074\n",
      "Parent 8447 got \"Number 001\" al 1713229034.052306\n",
      "Parent 8447 got \"Number 002\" al 1713229035.0535147\n",
      "Parent 8447 got \"Number 003\" al 1713229036.0546184\n",
      "Parent 8447 got \"Number 004\" al 1713229037.055826\n",
      "Parent 8447 got \"Number 000\" al 1713229038.056357\n",
      "Parent 8447 got \"Number 001\" al 1713229039.057531\n",
      "Parent 8447 got \"Number 002\" al 1713229040.058767\n",
      "Parent 8447 got \"Number 003\" al 1713229041.0598705\n",
      "Parent 8447 got \"Number 004\" al 1713229042.0613208\n",
      "Parent 8447 got \"Number 000\" al 1713229043.0624855\n",
      "Parent 8447 got \"Number 001\" al 1713229044.063935\n",
      "Parent 8447 got \"Number 002\" al 1713229045.0650396\n",
      "Parent 8447 got \"Number 003\" al 1713229046.0665557\n",
      "Parent 8447 got \"Number 004\" al 1713229047.068017\n",
      "Parent 8447 got \"Number 000\" al 1713229048.0684514\n",
      "Parent 8447 got \"Number 001\" al 1713229049.0686786\n",
      "Parent 8447 got \"Number 002\" al 1713229050.070185\n",
      "Parent 8447 got \"Number 003\" al 1713229051.0716467\n",
      "Parent 8447 got \"Number 004\" al 1713229052.0724452\n",
      "Parent 8447 got \"Number 000\" al 1713229053.0736475\n",
      "Parent 8447 got \"Number 001\" al 1713229054.0751328\n",
      "Parent 8447 got \"Number 002\" al 1713229055.0763335\n",
      "Parent 8447 got \"Number 003\" al 1713229056.0774853\n",
      "Parent 8447 got \"Number 004\" al 1713229057.0786326\n"
     ]
    },
    {
     "ename": "KeyboardInterrupt",
     "evalue": "",
     "output_type": "error",
     "traceback": [
      "\u001b[0;31m---------------------------------------------------------------------------\u001b[0m",
      "\u001b[0;31mKeyboardInterrupt\u001b[0m                         Traceback (most recent call last)",
      "\u001b[0;32m/tmp/ipykernel_8447/3871289142.py\u001b[0m in \u001b[0;36m<module>\u001b[0;34m\u001b[0m\n\u001b[1;32m     42\u001b[0m \u001b[0;34m\u001b[0m\u001b[0m\n\u001b[1;32m     43\u001b[0m \u001b[0;32mif\u001b[0m \u001b[0mpid\u001b[0m \u001b[0;34m!=\u001b[0m \u001b[0;36m0\u001b[0m\u001b[0;34m:\u001b[0m\u001b[0;34m\u001b[0m\u001b[0;34m\u001b[0m\u001b[0m\n\u001b[0;32m---> 44\u001b[0;31m     \u001b[0mparent\u001b[0m\u001b[0;34m(\u001b[0m\u001b[0;34m)\u001b[0m\u001b[0;34m\u001b[0m\u001b[0;34m\u001b[0m\u001b[0m\n\u001b[0m\u001b[1;32m     45\u001b[0m \u001b[0;32melse\u001b[0m\u001b[0;34m:\u001b[0m\u001b[0;34m\u001b[0m\u001b[0;34m\u001b[0m\u001b[0m\n\u001b[1;32m     46\u001b[0m     \u001b[0mchild_v2\u001b[0m\u001b[0;34m(\u001b[0m\u001b[0;34m)\u001b[0m\u001b[0;34m\u001b[0m\u001b[0;34m\u001b[0m\u001b[0m\n",
      "\u001b[0;32m/tmp/ipykernel_8447/3871289142.py\u001b[0m in \u001b[0;36mparent\u001b[0;34m()\u001b[0m\n\u001b[1;32m     31\u001b[0m \u001b[0;34m\u001b[0m\u001b[0m\n\u001b[1;32m     32\u001b[0m     \u001b[0;32mwhile\u001b[0m \u001b[0;32mTrue\u001b[0m\u001b[0;34m:\u001b[0m\u001b[0;34m\u001b[0m\u001b[0;34m\u001b[0m\u001b[0m\n\u001b[0;32m---> 33\u001b[0;31m         \u001b[0mline\u001b[0m \u001b[0;34m=\u001b[0m \u001b[0mpipein\u001b[0m\u001b[0;34m.\u001b[0m\u001b[0mreadline\u001b[0m\u001b[0;34m(\u001b[0m\u001b[0;34m)\u001b[0m\u001b[0;34m[\u001b[0m\u001b[0;34m:\u001b[0m\u001b[0;34m-\u001b[0m\u001b[0;36m1\u001b[0m\u001b[0;34m]\u001b[0m\u001b[0;34m\u001b[0m\u001b[0;34m\u001b[0m\u001b[0m\n\u001b[0m\u001b[1;32m     34\u001b[0m         \u001b[0mprint\u001b[0m\u001b[0;34m(\u001b[0m\u001b[0;34m'Parent %d got \"%s\" al %s'\u001b[0m \u001b[0;34m%\u001b[0m \u001b[0;34m(\u001b[0m\u001b[0mos\u001b[0m\u001b[0;34m.\u001b[0m\u001b[0mgetpid\u001b[0m\u001b[0;34m(\u001b[0m\u001b[0;34m)\u001b[0m\u001b[0;34m,\u001b[0m \u001b[0mline\u001b[0m\u001b[0;34m,\u001b[0m \u001b[0mtime\u001b[0m\u001b[0;34m.\u001b[0m\u001b[0mtime\u001b[0m\u001b[0;34m(\u001b[0m\u001b[0;34m)\u001b[0m\u001b[0;34m)\u001b[0m\u001b[0;34m)\u001b[0m\u001b[0;34m\u001b[0m\u001b[0;34m\u001b[0m\u001b[0m\n\u001b[1;32m     35\u001b[0m \u001b[0;34m\u001b[0m\u001b[0m\n",
      "\u001b[0;31mKeyboardInterrupt\u001b[0m: "
     ]
    }
   ],
   "source": [
    "import os\n",
    "import time\n",
    "\n",
    "\n",
    "pipe_name = '/tmp/pipe_test'\n",
    "\n",
    "\n",
    "def child():\n",
    "    pipeout = os.open(pipe_name, os.O_WRONLY)\n",
    "    counter = 0\n",
    "\n",
    "    while True:\n",
    "        os.write(pipeout, b'Number %03d\\n' % counter)         \n",
    "        counter = (counter+1) % 5\n",
    "        time.sleep(1)\n",
    "\n",
    "\n",
    "def child_v2():\n",
    "    pipeout = open(pipe_name, 'w')\n",
    "    counter = 0\n",
    "\n",
    "    while True:\n",
    "        pipeout.write('Number %03d\\n' % counter)\n",
    "        counter = (counter+1) % 5\n",
    "        pipeout.flush()\n",
    "        time.sleep(1)\n",
    "\n",
    "\n",
    "def parent():\n",
    "    pipein = open(pipe_name, 'r')\n",
    "\n",
    "    while True:\n",
    "        line = pipein.readline()[:-1]\n",
    "        print('Parent %d got \"%s\" al %s' % (os.getpid(), line, time.time()))\n",
    "\n",
    "\n",
    "if not os.path.exists(pipe_name):\n",
    "    os.mkfifo(pipe_name)\n",
    "\n",
    "\n",
    "pid = os.fork()\n",
    "\n",
    "if pid != 0:\n",
    "    parent()\n",
    "else:\n",
    "    child_v2()"
   ]
  },
  {
   "cell_type": "markdown",
   "id": "cc3ebc80-53d7-4e03-a833-aecb3a8b4de3",
   "metadata": {},
   "source": [
    "El código proporcionado implementa una comunicación de tipo FIFO (First-In-First-Out) utilizando tuberías en un entorno Linux. Utiliza el módulo `os` para interactuar con el sistema operativo y el módulo `time` para manejar temporizaciones.\n",
    "\n",
    "### Estructura del Código:\n",
    "- **Creación de la tubería**: Se verifica si ya existe una tubería en la ruta `/tmp/pipe_test`. Si no existe, se crea una nueva utilizando `os.mkfifo`.\n",
    "\n",
    "- **Forking del proceso**: Se utiliza `os.fork()` para crear un proceso hijo. Dependiendo del valor devuelto (`pid`), el script ejecutará el comportamiento del padre o del hijo.\n",
    "\n",
    "### Comportamiento del Proceso Hijo:\n",
    "- **Versión 1 (`child`)**: Abre la tubería en modo escritura, escribe una cadena de texto que incluye un contador que se reinicia después de alcanzar 5, y espera un segundo entre cada escritura.\n",
    "- **Versión 2 (`child_v2`)**: Similar a la versión 1 pero utilizando la sintaxis de manejo de archivos de alto nivel de Python (`open()` en lugar de `os.open()`), e incorpora `flush()` para asegurar que el contenido se escribe en la tubería sin retrasos.\n",
    "\n",
    "### Comportamiento del Proceso Padre (`parent`):\n",
    "- **Lectura de la tubería**: El proceso padre abre la tubería en modo lectura, lee las líneas enviadas por el hijo y las imprime con un sello temporal.\n",
    "\n",
    "Este enfoque permite una comunicación entre procesos en la misma máquina de manera sincronizada y en tiempo real, utilizando el concepto FIFO donde el primer dato en ser enviado es el primero en ser recibido y procesado.\n",
    "\n",
    "----------------------------------------------------------------------------------\n"
   ]
  },
  {
   "cell_type": "code",
   "execution_count": null,
   "id": "248b19e4-a906-4cef-be05-cd9c48f0c7d0",
   "metadata": {},
   "outputs": [],
   "source": [
    "import os\n",
    "import time\n",
    "\n",
    "fifo_path = '/tmp/my_fifo'\n",
    "\n",
    "# Crear el FIFO si no existe\n",
    "if not os.path.exists(fifo_path):\n",
    "    os.mkfifo(fifo_path)\n",
    "\n",
    "print(\"Opening FIFO...\")\n",
    "with open(fifo_path, 'w') as fifo:\n",
    "    print(\"FIFO opened for writing.\")\n",
    "    for i in range(10):\n",
    "        message = f'Message {i}'\n",
    "        print(f'Sending: {message}')\n",
    "        fifo.write(message + '\\n')\n",
    "        fifo.flush()  # Asegura que el mensaje se escriba inmediatamente\n",
    "        time.sleep(1)  # Espera un segundo entre mensajes\n",
    "\n",
    "print(\"Done writing messages.\")"
   ]
  },
  {
   "cell_type": "code",
   "execution_count": null,
   "id": "5162d89b-4922-4ef1-86e3-6b357c9d89d1",
   "metadata": {},
   "outputs": [],
   "source": [
    "import os\n",
    "\n",
    "fifo_path = '/tmp/my_fifo'\n",
    "\n",
    "print(\"Opening FIFO...\")\n",
    "with open(fifo_path, 'r') as fifo:\n",
    "    print(\"FIFO opened for reading.\")\n",
    "    while True:\n",
    "        message = fifo.readline().strip()\n",
    "        if message == \"\":\n",
    "            print(\"No more messages. Exiting.\")\n",
    "            break\n",
    "        print(f'Received: {message}')"
   ]
  },
  {
   "cell_type": "markdown",
   "id": "505774ab-81bb-4610-93b6-7f0bdb91bdfa",
   "metadata": {},
   "source": [
    "Los programas proporcionados son dos scripts simples en Python que utilizan FIFO para comunicarse entre dos procesos en un sistema Linux. El código gestiona la creación, escritura y lectura de una tubería nombrada.\n",
    "\n",
    "### Escritura en la FIFO:\n",
    "- **Creación de la FIFO**: El script verifica si existe un archivo en la ruta `/tmp/my_fifo`. Si no existe, se crea usando `os.mkfifo`, que es específico para crear tuberías nombradas en sistemas Unix-like.\n",
    "- **Manejo de la tubería**: Abre la tubería en modo escritura. Envía diez mensajes, uno por uno, asegurando que cada mensaje se escriba inmediatamente en la FIFO mediante `flush()`, y pausando un segundo entre cada envío con `time.sleep()`. Esto simula un flujo de datos a intervalos regulares.\n",
    "\n",
    "### Lectura desde la FIFO:\n",
    "- **Apertura y lectura de la FIFO**: Se abre la misma tubería en modo lectura. El script lee continuamente de la tubería hasta que no hay más datos (es decir, `readline()` devuelve una cadena vacía). Cada mensaje recibido se imprime en la consola.\n",
    "\n",
    "### Consideraciones:\n",
    "- **Sincronización**: Los scripts dependen de que ambos procesos estén corriendo simultáneamente para la correcta sincronización entre la escritura y la lectura, pues la FIFO no almacena datos entre ejecuciones.\n",
    "- **Uso práctico**: Este tipo de comunicación es útil en aplicaciones donde los procesos deben comunicarse de manera secuencial y en tiempo real, como en sistemas de procesamiento de comandos o transmisión de datos sensoriales en tiempo real.\n",
    "- ----------------------------------------------------------------\n"
   ]
  },
  {
   "cell_type": "code",
   "execution_count": null,
   "id": "36fc2b35-2cb5-49bd-95ba-64f748819320",
   "metadata": {},
   "outputs": [],
   "source": []
  }
 ],
 "metadata": {
  "kernelspec": {
   "display_name": "Python 3 (ipykernel)",
   "language": "python",
   "name": "python3"
  },
  "language_info": {
   "codemirror_mode": {
    "name": "ipython",
    "version": 3
   },
   "file_extension": ".py",
   "mimetype": "text/x-python",
   "name": "python",
   "nbconvert_exporter": "python",
   "pygments_lexer": "ipython3",
   "version": "3.10.12"
  }
 },
 "nbformat": 4,
 "nbformat_minor": 5
}
