{
 "cells": [
  {
   "cell_type": "markdown",
   "id": "cc51d433",
   "metadata": {},
   "source": [
    "<div align=\"center\">\n",
    "    <img src=\"images/um_logo.png\" alt=\"image\">\n",
    "</div>"
   ]
  },
  {
   "cell_type": "markdown",
   "id": "e56a4901",
   "metadata": {},
   "source": [
    "# Computación II\n"
   ]
  },
  {
   "cell_type": "markdown",
   "id": "8c696dfe",
   "metadata": {},
   "source": [
    "# Introducción a FIFOs en Linux\n",
    "\n",
    "## ¿Qué es un FIFO?\n",
    "\n",
    "FIFO, acrónimo de \"First In, First Out\", es un tipo de archivo especial en sistemas operativos Unix/Linux que se utiliza para la comunicación entre procesos. Actúa como un conducto, permitiendo que los datos fluyan de un proceso a otro de forma unidireccional. Los FIFOs también se conocen como \"named pipes\" porque, a diferencia de los pipes anónimos, tienen un nombre en el sistema de archivos.\n",
    "\n",
    "FIFOs son útiles para la comunicación entre procesos (IPC) donde los procesos de ejecución independiente necesitan intercambiar datos de manera segura y ordenada.\n",
    "\n",
    "## Creación y Uso de FIFOs\n",
    "\n",
    "### Creación de un FIFO\n",
    "\n",
    "Para crear un FIFO, se utiliza el comando `mkfifo` en la terminal. Por ejemplo:\n",
    "\n",
    "```bash\n",
    "mkfifo my_fifo\n",
    "```\n",
    "\n",
    "Esto creará un FIFO llamado my_fifo en el directorio actual.\n",
    "\n",
    "### Escritura y Lectura en un FIFO\n",
    "Los FIFOs se utilizan con operaciones estándar de lectura y escritura. Un proceso escribe datos en el FIFO utilizando la syscall (llamada al sistema) `write()` y otro proceso puede leer estos datos utilizando `read()`.\n",
    "\n",
    "Ejemplo de Escritura:"
   ]
  },
  {
   "cell_type": "code",
   "execution_count": 1,
   "id": "8426e2c9-63bc-4a2b-b353-7516bbd84444",
   "metadata": {},
   "outputs": [],
   "source": [
    "# Escritura en un FIFO usando Python\n",
    "import os\n",
    "\n",
    "fifo_path = 'my_fifo'\n",
    "with open(fifo_path, 'w') as fifo:\n",
    "    fifo.write('Hola desde el escritor!')\n"
   ]
  },
  {
   "cell_type": "markdown",
   "id": "8ace1bfb-0837-4933-a003-295479258b6c",
   "metadata": {},
   "source": [
    "Ejemplo de Lectura:"
   ]
  },
  {
   "cell_type": "code",
   "execution_count": 2,
   "id": "2413003a-62c0-41a8-9951-0d876d93e633",
   "metadata": {},
   "outputs": [
    {
     "ename": "FileNotFoundError",
     "evalue": "[Errno 2] No such file or directory: 'my_fifo'",
     "output_type": "error",
     "traceback": [
      "\u001b[0;31m---------------------------------------------------------------------------\u001b[0m",
      "\u001b[0;31mFileNotFoundError\u001b[0m                         Traceback (most recent call last)",
      "\u001b[0;32m/tmp/ipykernel_8447/1286602532.py\u001b[0m in \u001b[0;36m<module>\u001b[0;34m\u001b[0m\n\u001b[1;32m      3\u001b[0m \u001b[0;34m\u001b[0m\u001b[0m\n\u001b[1;32m      4\u001b[0m \u001b[0mfifo_path\u001b[0m \u001b[0;34m=\u001b[0m \u001b[0;34m'my_fifo'\u001b[0m\u001b[0;34m\u001b[0m\u001b[0;34m\u001b[0m\u001b[0m\n\u001b[0;32m----> 5\u001b[0;31m \u001b[0;32mwith\u001b[0m \u001b[0mopen\u001b[0m\u001b[0;34m(\u001b[0m\u001b[0mfifo_path\u001b[0m\u001b[0;34m,\u001b[0m \u001b[0;34m'r'\u001b[0m\u001b[0;34m)\u001b[0m \u001b[0;32mas\u001b[0m \u001b[0mfifo\u001b[0m\u001b[0;34m:\u001b[0m\u001b[0;34m\u001b[0m\u001b[0;34m\u001b[0m\u001b[0m\n\u001b[0m\u001b[1;32m      6\u001b[0m     \u001b[0mmessage\u001b[0m \u001b[0;34m=\u001b[0m \u001b[0mfifo\u001b[0m\u001b[0;34m.\u001b[0m\u001b[0mread\u001b[0m\u001b[0;34m(\u001b[0m\u001b[0;34m)\u001b[0m\u001b[0;34m\u001b[0m\u001b[0;34m\u001b[0m\u001b[0m\n\u001b[1;32m      7\u001b[0m     \u001b[0mprint\u001b[0m\u001b[0;34m(\u001b[0m\u001b[0;34mf'Mensaje recibido: {message}'\u001b[0m\u001b[0;34m)\u001b[0m\u001b[0;34m\u001b[0m\u001b[0;34m\u001b[0m\u001b[0m\n",
      "\u001b[0;31mFileNotFoundError\u001b[0m: [Errno 2] No such file or directory: 'my_fifo'"
     ]
    }
   ],
   "source": [
    "# Lectura de un FIFO usando Python\n",
    "import os\n",
    "\n",
    "fifo_path = 'my_fifo'\n",
    "with open(fifo_path, 'r') as fifo:\n",
    "    message = fifo.read()\n",
    "    print(f'Mensaje recibido: {message}')\n"
   ]
  },
  {
   "cell_type": "markdown",
   "id": "bd5764ce-864e-4cb3-b08e-24f227904c81",
   "metadata": {},
   "source": [
    "## Consideraciones Importantes\n",
    "- __Bloqueo:__ Los FIFOs bloquean la ejecución hasta que ambos extremos están conectados. El proceso de lectura se bloqueará hasta que haya datos para leer, y el proceso de escritura se bloqueará si el buffer está lleno.\n",
    "- __Sincronización:__ Los FIFOs no son adecuados para situaciones donde se requiere acceso concurrente por múltiples procesos sin un esquema de control.\n",
    "- __Seguridad:__ Es importante gestionar los permisos de acceso al FIFO para evitar problemas de seguridad."
   ]
  },
  {
   "cell_type": "code",
   "execution_count": null,
   "id": "9ada26f0-9667-4dfc-97a6-64bbaf88ff78",
   "metadata": {},
   "outputs": [],
   "source": []
  }
 ],
 "metadata": {
  "kernelspec": {
   "display_name": "Python 3 (ipykernel)",
   "language": "python",
   "name": "python3"
  },
  "language_info": {
   "codemirror_mode": {
    "name": "ipython",
    "version": 3
   },
   "file_extension": ".py",
   "mimetype": "text/x-python",
   "name": "python",
   "nbconvert_exporter": "python",
   "pygments_lexer": "ipython3",
   "version": "3.10.12"
  }
 },
 "nbformat": 4,
 "nbformat_minor": 5
}
