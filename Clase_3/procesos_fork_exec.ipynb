{
 "cells": [
  {
   "cell_type": "markdown",
   "id": "cc51d433",
   "metadata": {},
   "source": [
    "<div align=\"center\">\n",
    "    <img src=\"images/um_logo.png\" alt=\"image\">\n",
    "</div>"
   ]
  },
  {
   "cell_type": "markdown",
   "id": "e56a4901",
   "metadata": {},
   "source": [
    "# Computación II\n"
   ]
  },
  {
   "cell_type": "markdown",
   "id": "8c696dfe",
   "metadata": {},
   "source": [
    "# ***Procesos II***\n",
    "\n",
    "## Entendiendo las Tablas de Procesos y los Procesos Zombies\n",
    "Linux es un sistema operativo multitarea y multiusuario que permite ejecutar simultáneamente múltiples procesos. Un proceso, en términos simples, es una instancia de un programa en ejecución. Cada proceso en Linux se identifica por un PID (Identificador de Proceso) único. Los procesos pueden crear otros procesos a través de una combinación de llamadas al sistema `fork()` y `exec()`.\n",
    "\n",
    "`fork()` y `exec()` son dos llamadas al sistema en Unix y sistemas operativos basados en Unix, como Linux, que están estrechamente relacionadas con la creación y gestión de procesos. Aunque a menudo se usan juntas, tienen propósitos muy diferentes.\n",
    "\n",
    "### `fork()`\n",
    "La llamada al sistema `fork()` se utiliza para crear un nuevo proceso, conocido como proceso hijo, que es una copia casi exacta del proceso que lo llamó, conocido como proceso padre. El proceso hijo recibe una copia de los datos, el código y el espacio de pila del proceso padre, pero tiene su propio identificador de proceso (PID). Sin embargo, hay algunas diferencias entre el proceso hijo y el padre, como los valores de retorno de `fork()` y los identificadores de proceso.\n",
    "\n",
    "Después de `fork()`, ambos procesos, el padre y el hijo, continúan ejecutándose desde el punto donde `fork()` fue llamado, pero con diferentes espacios de memoria. Esto significa que los cambios realizados en la memoria por el proceso padre o el proceso hijo después de `fork()` no se reflejan en el otro proceso."
   ]
  },
  {
   "cell_type": "code",
   "execution_count": null,
   "id": "30e805fd-ef7f-4c87-8fab-e9ee6c34b0bc",
   "metadata": {},
   "outputs": [],
   "source": [
    "import os\n",
    "\n",
    "def main():\n",
    "    print(\"Inicio del programa (proceso padre).\")\n",
    "\n",
    "    pid = os.fork()\n",
    "\n",
    "    if pid == 0:\n",
    "        # Este código se ejecuta en el proceso hijo\n",
    "        print(\"Hola, soy el proceso hijo.\")\n",
    "    else:\n",
    "        # Este código se ejecuta en el proceso padre\n",
    "        print(f\"Hola, soy el proceso padre, y mi hijo tiene PID {pid}.\")\n",
    "\n",
    "    print(\"Fin del programa.\")\n",
    "\n",
    "if __name__ == \"__main__\":\n",
    "    main()\n"
   ]
  },
  {
   "cell_type": "markdown",
   "id": "ad951763-7a00-4311-a90b-a4e813a447c8",
   "metadata": {},
   "source": [
    "### `exec()`\n",
    "La familia de funciones `exec()` se utiliza para ejecutar un nuevo programa en el espacio de direcciones de un proceso, reemplazando el programa actual. Después de que `exec()` se ejecuta con éxito, el proceso anterior desaparece y se carga un nuevo programa en memoria para ejecutar. Esto se utiliza típicamente después de un `fork()` para ejecutar un nuevo programa en el proceso hijo mientras el proceso padre puede realizar otras tareas o esperar a que el proceso hijo termine.\n",
    "\n",
    "`exec()` viene en varias variantes como `execl()`, `execp()`, `execv()`, etc., que difieren en cómo reciben argumentos, pero todas reemplazan el proceso actual con un nuevo programa especificado."
   ]
  },
  {
   "cell_type": "code",
   "execution_count": null,
   "id": "ca738585-b3ad-4d4f-bbac-a1532c649339",
   "metadata": {},
   "outputs": [],
   "source": [
    "import os\n",
    "\n",
    "def main():\n",
    "    print(\"Ejecutando 'ls' para listar directorios...\")\n",
    "\n",
    "    # Reemplaza el proceso actual con 'ls'\n",
    "    # Nota: Este código no se ejecutará más allá de este punto en el proceso actual\n",
    "    os.execlp('ls', 'ls', '-l')\n",
    "\n",
    "    # Esta línea no se ejecutará\n",
    "    print(\"Esta línea no se mostrará.\")\n",
    "\n",
    "if __name__ == \"__main__\":\n",
    "    main()"
   ]
  },
  {
   "cell_type": "markdown",
   "id": "23897326-589f-455e-a710-51aa2aa2f12f",
   "metadata": {},
   "source": [
    "## Procesos Zombies\n",
    "Un proceso zombi es un proceso que ha completado su ejecución pero aún tiene una entrada en la tabla de procesos, esperando que su proceso padre lea su estado de salida. Esto ocurre cuando el proceso padre no ejecuta una llamada al sistema wait() para recoger el estado de terminación de su proceso hijo. Los procesos zombis consumen un mínimo de recursos, pero dejar muchos procesos zombis sin gestionar puede eventualmente llenar la tabla de procesos.\n",
    "\n",
    "Para identificar procesos zombis, se puede utilizar:"
   ]
  },
  {
   "cell_type": "raw",
   "id": "79b38c10-67f7-4dab-b17d-f59a4d12e6e3",
   "metadata": {},
   "source": [
    "$ ps aux | grep 'Z'"
   ]
  },
  {
   "cell_type": "markdown",
   "id": "616494a7-b0ca-474a-b593-7eef5a35f8fd",
   "metadata": {},
   "source": [
    "### Manejando Procesos Zombies en Python\n",
    "Python puede crear y gestionar procesos utilizando el módulo subprocess. Aquí hay un ejemplo de cómo crear un proceso zombi y luego gestionarlo:"
   ]
  },
  {
   "cell_type": "code",
   "execution_count": null,
   "id": "7337c9ad-4ce0-40b3-a103-bd6825f6d3df",
   "metadata": {},
   "outputs": [],
   "source": [
    "import subprocess\n",
    "import os\n",
    "import time\n",
    "\n",
    "# Crear un proceso hijo que termina inmediatamente\n",
    "pid = os.fork()\n",
    "if pid == 0:\n",
    "    # Proceso hijo\n",
    "    print(\"Este es el proceso hijo, terminando ahora.\")\n",
    "    os._exit(0)\n",
    "else:\n",
    "    # Proceso padre\n",
    "    print(f\"Este es el proceso padre, dejando al hijo {pid} como zombi.\")\n",
    "    time.sleep(20)  # Simular trabajo para dejar al hijo como zombi\n",
    "    print(\"El proceso padre ha terminado, el hijo debería ser adoptado por init.\")\n",
    "\n",
    "# Nota: Este código debe ser ejecutado en un entorno seguro, ya que crea un proceso zombi.\n"
   ]
  },
  {
   "cell_type": "markdown",
   "id": "d8290e41-10be-4c31-a150-016fac14a2ed",
   "metadata": {},
   "source": [
    "En este ejemplo, el proceso hijo termina inmediatamente después de su creación, convirtiéndose en un zombi hasta que el proceso padre termina su ejecución. Después de esto, el proceso zombi es adoptado por el proceso init, que automáticamente llamará a wait() para eliminar el zombi de la tabla de procesos."
   ]
  },
  {
   "cell_type": "markdown",
   "id": "52104f91-d12c-4e7e-b3f1-6ab92512695b",
   "metadata": {},
   "source": [
    "## Analisis de código\n",
    "Este es un ejemplo de código secuencial en Python que demuestra cómo se ejecutan las instrucciones una tras otra, sin la creación de procesos paralelos o concurrentes. "
   ]
  },
  {
   "cell_type": "code",
   "execution_count": null,
   "id": "7d10e109-eecb-4a91-b06a-262c00388506",
   "metadata": {},
   "outputs": [],
   "source": [
    "\"\"\"\n",
    "Ejemplo de código secuencial.\n",
    "Las instrucciones se van ejecutando una detrás de la otra\n",
    "\n",
    "NOTA DE CLASE: mientras se ejecuta correr ps fax|grep python\n",
    "\"\"\"\n",
    "\n",
    "\n",
    "import time\n",
    "import os\n",
    "\n",
    "print('INICIO')\n",
    "print('PID: %d  --  PPID: %d' % (os.getpid(), os.getppid()))\n",
    "\n",
    "for i in range(5, 0, -1):\n",
    "  print(i)\n",
    "  time.sleep(1)\n",
    "\n",
    "\n",
    "print('\\nFIN')\n",
    "print('PID: %d  --  PPID: %d' % (os.getpid(), os.getppid()))"
   ]
  },
  {
   "cell_type": "markdown",
   "id": "7f6238ab-23f3-4794-90f2-16584672ca45",
   "metadata": {},
   "source": [
    "El siguiente fragmento de código ilustra el uso de la función os.system en Python para ejecutar un script externo, denominado ejemplo_1.py, dos veces de manera secuencial. La característica clave a destacar aquí es que os.system es una función bloqueante. Esto significa que cada llamada a os.system debe completar su ejecución antes de que el bucle pueda continuar y comenzar la ejecución del comando siguiente.\n",
    "\n",
    "En este contexto, el bucle for realiza dos iteraciones. En cada iteración, invoca el comando python ejemplo_1.py a través de os.system, ejecutando así el script externo. Dado que os.system espera a que el comando termine antes de regresar el control al script Python que lo llamó, el efecto es que el script ejemplo_1.py se ejecuta completamente una vez, y solo después de que termine, inicia la segunda ejecución.\n",
    "\n",
    "Este comportamiento es especialmente relevante en contextos donde la secuencialidad es importante, por ejemplo, cuando el script llamado realiza alguna tarea que debe completarse antes de iniciar una nueva ejecución o cuando el resultado de la primera ejecución afecta a la siguiente."
   ]
  },
  {
   "cell_type": "code",
   "execution_count": null,
   "id": "5c3d33ab-bee1-4239-9ea7-14d346191d07",
   "metadata": {},
   "outputs": [],
   "source": [
    "\"\"\"\n",
    "Se puede ver como os.system es una función bloqueante. Por lo tanto debe esperar a que termine el primer proceso para comenzar el siguiente\n",
    "\"\"\"\n",
    "\n",
    "import os\n",
    "\n",
    "for i in range(2):\n",
    "  os.system(\"python ejemplo_1.py\")"
   ]
  },
  {
   "cell_type": "markdown",
   "id": "f261058a-ccee-44a9-9c6f-cf1df09c534f",
   "metadata": {},
   "source": [
    "El siguiente fragmento de código demuestra el uso de Popen del módulo subprocess en Python, que permite la ejecución no bloqueante de procesos. A diferencia de os.system, Popen inicia un proceso y devuelve inmediatamente el control al script que lo llamó, permitiendo que el script continúe su ejecución sin esperar a que el proceso iniciado concluya.\n",
    "\n",
    "El código ejecuta un bucle que itera dos veces, donde en cada iteración se inicia un nuevo proceso para ejecutar el script ejemplo_1.py utilizando Popen. Gracias a la naturaleza no bloqueante de Popen, ambas invocaciones del script externo pueden correr de manera concurrente, es decir, al mismo tiempo, pero sin necesariamente ejecutarse en paralelo a menos que el sistema disponga de múltiples núcleos de CPU y el sistema operativo decida ejecutar esos procesos en núcleos distintos.\n",
    "\n",
    "Después de iniciar los procesos, el script espera un segundo mediante time.sleep(1) y luego imprime 'FIN DEL PROCESO PADRE'. Este mensaje se muestra antes de que los procesos iniciados con Popen necesariamente hayan terminado, ilustrando el comportamiento no bloqueante de Popen y cómo permite la concurrencia en la ejecución de tareas.\n",
    "\n",
    "Es importante distinguir entre concurrente y paralelo: la concurrencia se refiere a la capacidad de progresar en múltiples tareas al mismo tiempo en el contexto de un programa, mientras que el paralelismo implica la ejecución simultánea de tareas en diferentes núcleos de procesador, ofreciendo una mejora real en el rendimiento mediante la ejecución literalmente al mismo tiempo."
   ]
  },
  {
   "cell_type": "code",
   "execution_count": null,
   "id": "72c9fdf4-7053-428b-a96a-466398ab1cc7",
   "metadata": {},
   "outputs": [],
   "source": [
    "\"\"\"\n",
    "Popen no es bloqueante, por lo que no va esperar a que termine un proceso para comenzar otro.\n",
    "Procesos, tareas o hilos concurrentes: ocurren al mismo tiempo\n",
    "Paralelos: procesos, tareas o hilos concurrentes que se ejecutan en dos núcleos distintos\n",
    "\"\"\"\n",
    "\n",
    "from subprocess import Popen\n",
    "import time\n",
    "\n",
    "for i in range(2):\n",
    "  Popen([\"python\", \"ejemplo_1.py\"])\n",
    "\n",
    "\n",
    "time.sleep(1)\n",
    "print('FIN DEL PROCESO PADRE')"
   ]
  },
  {
   "cell_type": "markdown",
   "id": "5d972d80-0cda-4805-b375-b2b3b15a9e79",
   "metadata": {},
   "source": [
    "El siguiente código ilustra el uso de la función os.execlp para reemplazar el proceso actual del script Python por un nuevo proceso, ejecutando el script hijo.py. La característica principal de las funciones de la familia exec es que reemplazan completamente el programa en el proceso actual con un nuevo programa, lo que significa que el proceso mantiene el mismo PID (Identificador de Proceso), pero ejecuta un código diferente. En este caso, el binario de Python ejecutando el script actual es reemplazado por un nuevo binario de Python ejecutando hijo.py.\n",
    "\n",
    "1. Antes de la llamada a os.execlp: El script imprime el PID del proceso actual, identificándose como el proceso padre. Este PID es único y es asignado por el sistema operativo.\n",
    "\n",
    "2. Uso de os.execlp: Esta función busca el ejecutable especificado (en este caso, python) en el PATH del sistema y lo ejecuta, pasando ./hijo.py como argumento. Importante, reemplaza el binario actual del proceso (el script Python en ejecución) con el binario de Python que ejecuta hijo.py, efectivamente transformando el proceso actual en el proceso que ejecuta hijo.py.\n",
    "\n",
    "3. Después de la llamada a os.execlp: Cualquier código escrito después de la llamada a os.execlp nunca se ejecuta, porque el espacio de memoria del proceso que contenía el script original ha sido reemplazado por el nuevo programa. Esto significa que la línea print('DA IGUAL LO QUE SE EJECUTE EN ESTE PUNTO PORQUE EXEC MODIFICA EL BINARIO ACTUAL') nunca se ejecutará."
   ]
  },
  {
   "cell_type": "code",
   "execution_count": null,
   "id": "badcaaf7-bf81-4211-a17f-70de7da7f4ba",
   "metadata": {},
   "outputs": [],
   "source": [
    "\"\"\"\n",
    "El padre y el hijo tendrán el mismo PID ya que el hijo se ejecuta modificando el binario del padre.\n",
    "\n",
    "\"\"\"\n",
    "\n",
    "\n",
    "import os\n",
    "\n",
    "\n",
    "\n",
    "print('SOY EL PADRE (PID: %d)' % os.getpid())\n",
    "os.execlp('python', 'python', './hijo.py')\n",
    "\n",
    "print('DA IGUAL LO QUE SE EJECUTE EN ESTE PUNTO PORQUE EXEC MODIFICA EL BINARIO ACTUAL')\n",
    "  \n",
    "\n"
   ]
  },
  {
   "cell_type": "code",
   "execution_count": null,
   "id": "4727aa8a-d858-4915-855d-0d421d4df687",
   "metadata": {},
   "outputs": [],
   "source": [
    "#Codigo  de hijo.py\n",
    "import os\n",
    "\n",
    "print('SOY EL HIJO INDEPENDIENTE (PID: %d -- PPID: %d)' % (os.getpid(), os.getppid()))"
   ]
  },
  {
   "cell_type": "markdown",
   "id": "12a8727c-d9a5-480d-a76b-254000e2cc00",
   "metadata": {},
   "source": [
    "El siguiente programa demuestra cómo crear un proceso zombi utilizando la bifurcación (`fork()`) y la ejecución (`execlp()`) en un sistema operativo tipo Unix/Linux.\n"
   ]
  },
  {
   "cell_type": "code",
   "execution_count": null,
   "id": "d6750269-6fbc-4a31-8834-594aceaca216",
   "metadata": {},
   "outputs": [],
   "source": [
    "import os, time\n",
    "\n",
    "pid = os.fork()\n",
    "\n",
    "if pid == 0:\n",
    "  os.execlp(\"sleep\", \"sleep\", \"5\")\n",
    "\n",
    "time.sleep(10)  \n",
    "print('Finalizando el padre')"
   ]
  },
  {
   "cell_type": "markdown",
   "id": "e35b156e-56fb-404a-a31a-d012ddb022a4",
   "metadata": {},
   "source": [
    "El siguiente script demuestra el uso de os.fork() para crear un proceso hijo en Python y luego utiliza os.execlp para reemplazar el proceso hijo con otro programa. También muestra cómo el proceso padre puede esperar por la finalización del proceso hijo usando os.wait(). Aquí te doy un resumen de su funcionamiento:\n",
    "\n",
    "1. Inicio: El script comienza imprimiendo el PID del proceso actual, que es el proceso padre, seguido de un mensaje que indica que se realizará un fork.\n",
    "\n",
    "2. Forking: Utiliza os.fork() para intentar crear un proceso hijo. Si os.fork() tiene éxito, devuelve dos veces: en el proceso padre, devuelve el PID del proceso hijo, y en el proceso hijo, devuelve 0. Si falla, imprime un mensaje de error.\n",
    "\n",
    "3. Comportamiento del Padre: Si el valor retornado por os.fork() es mayor que 0, el código está en el proceso padre. El proceso padre imprime su PID nuevamente, luego llama a os.wait(). os.wait() pausa la ejecución del proceso padre hasta que uno de sus procesos hijos termina, devolviendo el PID del hijo y su estado de salida. Después de esperar al hijo, el padre imprime el retorno de os.wait() (que contiene el PID del hijo y su estado de salida) y finaliza con un mensaje que indica el fin del proceso padre.\n",
    "\n",
    "4. Comportamiento del Hijo: Si el valor retornado por os.fork() es 0, el código está en el proceso hijo. El hijo imprime su propio PID y el PID de su proceso padre (PPID), luego usa os.execlp para reemplazar su ejecución con otro programa (en este caso, el script hijo.py). Debido a os.execlp, cualquier línea de código después de esta llamada en el proceso hijo nunca se ejecuta, ya que el espacio de memoria del proceso hijo ahora contiene el nuevo programa.\n",
    "\n",
    "5. Observación Importante: El script menciona el uso de ps lf para observar procesos y ps ps, probablemente queriendo indicar el uso de ps para inspeccionar los procesos y sus relaciones padre-hijo. Sin embargo, parece haber un pequeño error tipográfico en la explicación de cómo ver procesos padre con ps ps, que no es un comando válido. Para ver la jerarquía de procesos, se puede usar ps -f, ps -ef, o pstree en la terminal de Linux.\n",
    "\n",
    "Este código ilustra importantes conceptos de programación de sistemas en Python, como la creación de procesos, la espera por la finalización de procesos hijos, y la sustitución del programa en ejecución de un proceso."
   ]
  },
  {
   "cell_type": "code",
   "execution_count": null,
   "id": "e7d1d653-8abb-4c0b-8444-4c245b416edb",
   "metadata": {},
   "outputs": [],
   "source": [
    "\"\"\"\n",
    "Se pueden ver los procesos con ps lf.\n",
    "Para ver los procesos padre se pueden ver con ps ps\n",
    "\"\"\"\n",
    "\n",
    "\n",
    "import os\n",
    "import sys\n",
    "import time\n",
    "\n",
    "print('SOY EL PADRE (PID: %d)' % os.getpid())\n",
    "print('fork --------------------------------')\n",
    "try:\n",
    "  ret = os.fork()\n",
    "except OSError:\n",
    "  print('ERROR AL CREAR EL HIJO')\n",
    "  \n",
    "\n",
    "\n",
    "if ret > 0:\n",
    "  print('SOY EL PADRE (PID: %d )' % os.getpid())\n",
    "  # Cuando bash ejecuta algo como este programa, se queda esperando el exit status del hijo. Si el padre no espera (os.wait()) no se devolverá el prompt por que bash no busca el exist status del hijo.\n",
    "  ret = os.wait()\n",
    "  print(ret)\n",
    "  print('FIN DEL PADRE')\n",
    "  \n",
    "elif ret == 0:\n",
    "  print('SOY EL HIJO (PID: %d -- PPID: %d)' % (os.getpid(), os.getppid()))\n",
    "  \n",
    "#  time.sleep(2)\n",
    "  os.execlp('python', 'python', './hijo.py')\n",
    "  \n",
    "  print('DA IGUAL LO QUE SE EJECUTE EN ESTE PUNTO PORQUE EXEC MODIFICA EL BINARIO ACTUAL')"
   ]
  },
  {
   "cell_type": "markdown",
   "id": "3ff009a5-a4dc-4076-a3c4-a3659d35d6a7",
   "metadata": {},
   "source": [
    "El siguiente programa demuestra el concepto de forking en sistemas operativos tipo Unix/Linux, así como el manejo de archivos y el comportamiento de los descriptores de archivos durante y después del fork. Aquí te detallo su funcionamiento:\n",
    "\n",
    "#### Descripción General\n",
    "Al inicio, el script abre (o crea si no existe) un archivo llamado archivo.txt en modo de escritura y lectura (w+). Esto significa que cualquier contenido previo del archivo será borrado y el archivo estará listo para leer y escribir desde el principio.\n",
    "\n",
    "Luego, realiza un fork para crear un proceso hijo.\n",
    "\n",
    "##### Proceso Padre\n",
    "- El proceso padre (determinado por if (pid):) imprime su PID y luego intenta leer el contenido del archivo. Sin embargo, dado que el read() se realiza inmediatamente después de un sleep() y sin un seek(0) previo que reposicione el cursor al inicio del archivo, no podrá leer lo que el hijo escribió a menos que se descomente el fd.seek(0).\n",
    "\n",
    "- El código comentado que escribe en el archivo desde el padre y luego llama a flush() está destinado a demostrar cómo ambos procesos, padre e hijo, pueden modificar el mismo archivo, y cómo es necesario utilizar flush() para asegurar que lo escrito se refleje inmediatamente en el archivo, ya que de lo contrario podría quedarse en el buffer de salida.\n",
    "\n",
    "##### Proceso Hijo\n",
    "- El proceso hijo escribe una línea en el archivo y luego llama a flush() para asegurar que el cambio se guarde en el archivo antes de que el proceso termine con sys.exit(0). Esto demuestra cómo ambos procesos, debido a que comparten el descriptor de archivo, pueden escribir en el mismo archivo.\n",
    "##### Comportamiento del Descriptor de Archivo\n",
    "- Después del fork, tanto el proceso padre como el hijo tienen su propio descriptor de archivo (aunque apuntando al mismo archivo abierto), lo que significa que comparten la posición actual del archivo. Es importante notar que cualquier operación de escritura o lectura afectará la posición del archivo en ambos procesos, a menos que se maneje cuidadosamente, como reajustando la posición del archivo con seek() después de leer o escribir.\n",
    "\n",
    "- El comentario final sobre el uso de time.sleep(60) y la inspección de los descriptores de archivos con sudo ls -l /proc/pid/fd es una sugerencia para explorar cómo los descriptores de archivos se comparten entre el proceso padre e hijo, mostrando que ambos procesos tienen acceso al mismo archivo, lo cual puede ser verificado observando los enlaces simbólicos en los directorios de los procesos dentro de /proc."
   ]
  },
  {
   "cell_type": "code",
   "execution_count": null,
   "id": "f11cdc0d-bfd0-4d92-9eec-1a5999c134bc",
   "metadata": {},
   "outputs": [],
   "source": [
    "import os\n",
    "import sys\n",
    "import time\n",
    "\n",
    "\n",
    "\n",
    "def main():\n",
    "    \n",
    "  fd = open('./archivo.txt', 'w+')\n",
    "  \n",
    "  \n",
    "  pid = os.fork()\n",
    "\n",
    "  if (pid): # Este es el proceso padre\n",
    "    print('PADRE (PID: %d)' % os.getpid())\n",
    "    time.sleep(1)\n",
    "#      fd.seek(0)\n",
    "    print(fd.read())\n",
    "    \n",
    "#    fd.write('Esto es una línea del PADRE')\n",
    "#    fd.flush() #Cuando se escribe en un archivo se escribe sobre un buffer. Para que el contenido del buffer sea escrito en el archivo se debe usar flush o cerrar el archivo o terminar el proceso correctamente\n",
    "  \n",
    "  else: # Proceso hijo\n",
    "    print('HIJO (PID: %d)' % os.getpid())\n",
    "    fd.write('Esto es una línea del HIJO')\n",
    "    fd.flush()\n",
    "    sys.exit(0)\n",
    "      \n",
    "      \n",
    "#  time.sleep(60) # Los files descriptors se comparten. Por ese motivo ambos pueden ver lo que esta pasando en el archivo. sudo ls -l /proc/pid/fd\n",
    "\n",
    "if __name__ == \"__main__\":\n",
    "  main()\n",
    " \n"
   ]
  },
  {
   "cell_type": "markdown",
   "id": "56a2754e-2a0b-40c1-b86f-1d304473c936",
   "metadata": {},
   "source": [
    "El siguiente programa ilustra el uso de `os.fork()` en Python para crear un proceso hijo y cómo la memoria se maneja entre el proceso padre y el proceso hijo.\n",
    "\n",
    "1. Inicialización: Se declara una variable var con el valor inicial de 100. Luego, el proceso padre imprime su PID.\n",
    "\n",
    "2. Forking: Se llama a `os.fork()`, lo cual duplica el proceso. En el proceso padre, `os.fork()` devuelve el PID del proceso hijo, mientras que en el proceso hijo devuelve 0.\n",
    "\n",
    "3. Bucle de Ejecución:\n",
    "- Proceso Padre: Si el PID es no cero (indicando que el código se está ejecutando en el proceso padre), entra en un bucle donde incrementa el valor de var por 1 en cada iteración, imprime el valor actualizado de var y su dirección de memoria (indicada por `id(var)`), y luego pausa la ejecución por 1 segundo.\n",
    "- Proceso Hijo: Si el PID es cero (indicando que el código se está ejecutando en el proceso hijo), entra en un bucle similar pero, en lugar de incrementar, decrementa el valor de var por 1 en cada iteración, imprime el valor actualizado y su dirección de memoria, y pausa la ejecución por 1 segundo.\n",
    "  \n",
    "4. Independencia de Variables: Aunque var empieza con el mismo valor en ambos procesos justo después del `fork()`, los cambios que cada proceso hace a var son independientes el uno del otro. Esto se debe a la semántica de \"copia-en-escritura\" de `fork()`, que hace que cada proceso tenga su propia copia independiente de las variables después de modificarlas. Las direcciones de memoria impresas con `id(var)` serán diferentes entre el padre y el hijo después de la primera modificación, evidenciando esta separación.\n",
    "\n",
    "5. Observación de la Concurrency: Este script también demuestra cómo los procesos padre e hijo pueden ejecutarse concurrentemente, con el sistema operativo alternando entre ellos. Las impresiones en la salida estándar reflejan cómo el padre y el hijo están ejecutando sus bucles concurrentemente, modificando y reportando el valor de var de manera independiente."
   ]
  },
  {
   "cell_type": "code",
   "execution_count": null,
   "id": "f675e961-898a-4611-8c6d-3913e1fe446c",
   "metadata": {},
   "outputs": [],
   "source": [
    "import os\n",
    "import sys\n",
    "import time\n",
    "\n",
    "var = 100\n",
    "print(\"PADRE: Soy el proceso padre y mi pid es: %d\" % os.getpid())\n",
    "\n",
    "pid = os.fork()\n",
    "\n",
    "for i in range(10):\n",
    "  if (pid): # Este es el proceso padre\n",
    "      var += 1\n",
    "      print(\"PADRE var: %d  --- %d\" % (var, id(var)))\n",
    "      time.sleep(1)\n",
    "  \n",
    "  else: # Proceso hijo\n",
    "      var -= 1\n",
    "      print(\"HIJO var: %d  --- %d\" % (var, id(var)))\n",
    "      time.sleep(1)"
   ]
  },
  {
   "cell_type": "markdown",
   "id": "63be7666-1857-4686-9f33-4d9ca864c84a",
   "metadata": {},
   "source": [
    "El siguiente programa realiza dos llamadas secuenciales a os.fork(), creando un total de cuatro procesos, incluyendo el proceso original. No es una \"fork bomb\" en el sentido tradicional, sino un ejemplo controlado de cómo se pueden crear múltiples procesos mediante el uso de fork().\n",
    "\n",
    "##### Descripción del Proceso de Forking\n",
    "1. Inicio del Script: El script comienza su ejecución en el proceso original (llamémosle A). En este punto, solo hay un proceso ejecutando el script.\n",
    "\n",
    "2. Primera llamada a os.fork(): Esta línea duplica el proceso. Ahora tenemos dos procesos:\n",
    "\n",
    "- El proceso original (A) continúa la ejecución del script.\n",
    "- Un nuevo proceso hijo (B) es creado, que también comienza a ejecutar el script desde el punto justo después de la llamada a fork().\n",
    " \n",
    "3. Segunda llamada a os.fork(): Tanto A como B ejecutan esta línea, y cada uno crea su propio proceso hijo. Esto resulta en cuatro procesos en total:\n",
    "\n",
    "- El proceso original (A).\n",
    "- El primer hijo (B), creado por la primera llamada a fork().\n",
    "- Un hijo de A (llamémosle C), creado por la segunda llamada a fork() en A.\n",
    "- Un hijo de B (llamémosle D), creado por la segunda llamada a fork() en B.\n",
    "\n",
    "  "
   ]
  },
  {
   "cell_type": "code",
   "execution_count": null,
   "id": "19395aa8-1b70-43ed-9a8a-91ffd9ca43a6",
   "metadata": {},
   "outputs": [],
   "source": [
    "import os\n",
    "import time\n",
    "\n",
    "def main():\n",
    "    os.fork()\n",
    "    os.fork()\n",
    "    print('Hola mundo')\n",
    "    \n",
    "#    time.sleep(120) #Para ver la gerarqía  o el while\n",
    "#    while True:\n",
    "#      pass\n",
    "\n",
    "if __name__ == \"__main__\":\n",
    "  main()"
   ]
  },
  {
   "cell_type": "markdown",
   "id": "8abc1d44-6027-4cb1-9fcc-e2f7701b9d48",
   "metadata": {},
   "source": [
    "# Flujos Estándar en Sistemas Unix-like\n",
    "\n",
    "Los sistemas operativos tipo Unix, incluyendo Linux y macOS, manejan tres flujos estándar de datos que son utilizados por los programas. Estos flujos son:\n",
    "\n",
    "1. **Entrada Estándar (stdin)**: Es el flujo de datos de entrada para un programa. Por defecto, está conectado al teclado, permitiendo que un programa lea datos ingresados por el usuario. Se puede redirigir para leer datos de un archivo o de otro programa.\n",
    "   - **Identificador de Archivo**: 0\n",
    "   - **Uso en Código**: Se accede a través de `sys.stdin` en Python.\n",
    "\n",
    "2. **Salida Estándar (stdout)**: Es el flujo principal de datos de salida de un programa. Por defecto, se muestra en la terminal (consola), permitiendo que el programa envíe datos hacia el exterior, por ejemplo, imprimir resultados o mensajes para el usuario. Se puede redirigir para escribir a un archivo o a otro programa.\n",
    "   - **Identificador de Archivo**: 1\n",
    "   - **Uso en Código**: Se accede a través de `sys.stdout` en Python.\n",
    "\n",
    "3. **Error Estándar (stderr)**: Es un flujo de datos de salida separado utilizado para enviar mensajes de error o de diagnóstico. Por defecto, también se muestra en la terminal, pero se puede redirigir de forma independiente a `stdout`, permitiendo separar los mensajes de error de la salida normal del programa.\n",
    "   - **Identificador de Archivo**: 2\n",
    "   - **Uso en Código**: Se accede a través de `sys.stderr` en Python.\n",
    "\n",
    "## Ejemplo de Redirección en la Terminal\n",
    "\n",
    "Para redirigir la salida estándar de un programa a un archivo, se puede utilizar el operador `>` en la terminal:\n"
   ]
  },
  {
   "cell_type": "raw",
   "id": "85b01939-acca-474c-8365-4c1853aaf7c2",
   "metadata": {},
   "source": [
    "$ python mi_script.py > salida.txt"
   ]
  },
  {
   "cell_type": "markdown",
   "id": "9903bfc0-5a42-43e0-986b-6ab2deece395",
   "metadata": {},
   "source": [
    "Para redirigir el error estándar a un archivo diferente:"
   ]
  },
  {
   "cell_type": "raw",
   "id": "c6986940-04bf-4ab0-9ac4-b6262fb46f01",
   "metadata": {},
   "source": [
    "$ python mi_script.py 2> errores.txt"
   ]
  },
  {
   "cell_type": "markdown",
   "id": "75ad79d1-12b5-4863-ba8e-9ea1ac1d41a4",
   "metadata": {},
   "source": [
    "Y para redirigir tanto la salida estándar como el error estándar al mismo archivo:"
   ]
  },
  {
   "cell_type": "raw",
   "id": "61f13894-10ca-4fa6-8ba0-622e0dc352f1",
   "metadata": {},
   "source": [
    "$ python mi_script.py > salida_total.txt 2>&1"
   ]
  },
  {
   "cell_type": "markdown",
   "id": "8a00b676-31be-42b4-9112-273fcddd721c",
   "metadata": {},
   "source": [
    "El siguiente programa demuestra cómo redirigir el flujo de error estándar (stderr) a un archivo para capturar mensajes de error."
   ]
  },
  {
   "cell_type": "code",
   "execution_count": null,
   "id": "372d6ac1-f443-4740-b563-6bacc2425d2d",
   "metadata": {},
   "outputs": [],
   "source": [
    "import sys, os\n",
    "\n",
    "\n",
    "print('PID: %d' %os.getpid())\n",
    "\n",
    "\n",
    "fh = open('test.txt', 'w')\n",
    "\n",
    "\n",
    "input('Antes de redireccionar')\n",
    "sys.stderr = fh\n",
    "print('Esta línea va a test.txt', file=sys.stderr)\n",
    "\n",
    "sys.Popen('ccc')\n",
    "\n",
    "input('Despues de redireccionar')\n",
    "\n",
    "\n",
    "sys.stderr = sys.__stderr__\n",
    "\n",
    "fh.close()"
   ]
  },
  {
   "cell_type": "markdown",
   "id": "fcbdfa3c-be4a-467d-8d98-72bd0522f1f5",
   "metadata": {},
   "source": [
    "Otra versión comentada y con manejo de errores:"
   ]
  },
  {
   "cell_type": "code",
   "execution_count": null,
   "id": "10dce942-6dfd-4ab5-9512-965e27352fa9",
   "metadata": {},
   "outputs": [],
   "source": [
    "import sys, os\n",
    "\n",
    "# Imprimir el PID del proceso actual\n",
    "print('PID: %d' % os.getpid())\n",
    "\n",
    "# Abrir (o crear) un archivo en modo de escritura\n",
    "fh = open('test.txt', 'w')\n",
    "\n",
    "# Pausa antes de la redirección, esperando entrada del usuario\n",
    "input('Antes de redireccionar')\n",
    "\n",
    "# Redirigir stderr al archivo abierto\n",
    "sys.stderr = fh\n",
    "\n",
    "# Escribir un mensaje en stderr, que ahora apunta a 'test.txt'\n",
    "print('Esta línea va a test.txt', file=sys.stderr)\n",
    "\n",
    "# Provocar intencionadamente un error para demostrar la redirección de stderr\n",
    "try:\n",
    "    sys.Popen('ccc')\n",
    "except AttributeError as e:\n",
    "    print(f\"Error capturado: {e}\", file=sys.stderr)\n",
    "\n",
    "# Pausa después de la redirección, esperando entrada del usuario\n",
    "input('Después de redireccionar')\n",
    "\n",
    "# Restaurar stderr a su flujo estándar original\n",
    "sys.stderr = sys.__stderr__\n",
    "\n",
    "# Cerrar el archivo\n",
    "fh.close()"
   ]
  }
 ],
 "metadata": {
  "kernelspec": {
   "display_name": "Python 3 (ipykernel)",
   "language": "python",
   "name": "python3"
  },
  "language_info": {
   "codemirror_mode": {
    "name": "ipython",
    "version": 3
   },
   "file_extension": ".py",
   "mimetype": "text/x-python",
   "name": "python",
   "nbconvert_exporter": "python",
   "pygments_lexer": "ipython3",
   "version": "3.10.12"
  }
 },
 "nbformat": 4,
 "nbformat_minor": 5
}
