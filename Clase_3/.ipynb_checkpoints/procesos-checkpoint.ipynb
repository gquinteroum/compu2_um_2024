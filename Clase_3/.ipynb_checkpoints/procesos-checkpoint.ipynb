{
 "cells": [
  {
   "cell_type": "markdown",
   "id": "cc51d433",
   "metadata": {},
   "source": [
    "![image](images/um_logo.png)"
   ]
  },
  {
   "cell_type": "markdown",
   "id": "e56a4901",
   "metadata": {},
   "source": [
    "# Computación II\n"
   ]
  },
  {
   "cell_type": "markdown",
   "id": "8c696dfe",
   "metadata": {},
   "source": [
    "# ***Introducción a Git***\n",
    "\n",
    "## Introducción a Git\n",
    "1. ¿Qué es Git?\n",
    "Historia de Git: Git fue creado por Linus Torvalds en 2005 para el desarrollo del kernel de Linux. La necesidad de un sistema de control de versiones distribuido (DVCS) que fuera rápido, eficiente y capaz de manejar grandes proyectos como Linux fue la principal motivación detrás de su creación. Desde entonces, Git ha ganado popularidad y se ha convertido en el estándar de facto para el control de versiones en el desarrollo de software.\n",
    "\n",
    "Conceptos clave:\n",
    "\n",
    "Control de versiones: Es el proceso de registrar y gestionar cambios en el código fuente de un programa. Permite a los desarrolladores trabajar de manera más eficiente, mantener un historial de cambios y colaborar en equipos grandes.\n",
    "Repositorio: Un repositorio de Git es un contenedor virtual para un proyecto. Contiene todos los archivos del proyecto y el historial de cambios. Puede existir tanto en la máquina local del desarrollador como en un servidor remoto.\n",
    "Commit: Un commit es una instantánea de los cambios en el repositorio en un punto en el tiempo. Cada commit tiene un identificador único y puede incluir metadatos como el autor, la fecha y un mensaje descriptivo.\n",
    "Branch: Una rama o branch permite a los desarrolladores trabajar en diferentes características o correcciones de forma aislada, sin afectar el flujo de trabajo principal o la línea de tiempo principal del proyecto (conocida como la rama \"master\" o \"main\").\n",
    "\n",
    "2. Instalación y configuración de Git\n",
    "Instalación en diferentes sistemas operativos:\n",
    "\n",
    "Windows: Se puede descargar Git desde git-scm.com, que incluye Git Bash, una aplicación que proporciona una interfaz de línea de comandos similar a Unix.\n",
    "MacOS: Git puede instalarse usando Homebrew (brew install git) o descargándolo directamente desde su página web.\n",
    "Linux: Git puede instalarse desde los repositorios oficiales de la mayoría de las distribuciones de Linux usando el gestor de paquetes, por ejemplo, apt-get install git en Ubuntu.\n",
    "Configuración inicial: Antes de comenzar a usar Git, es importante configurar tu identidad. Esto implica establecer tu nombre de usuario y dirección de correo electrónico, que se incluirán en tus commits."
   ]
  },
  {
   "cell_type": "raw",
   "id": "adf3a5e2-25da-40b5-897c-fbfe1c478972",
   "metadata": {},
   "source": [
    "git config --global user.name \"Tu Nombre\"\n",
    "git config --global user.email \"tuemail@example.com\""
   ]
  },
  {
   "cell_type": "markdown",
   "id": "c381ed8e-be95-483f-84a9-b0535cba3ff0",
   "metadata": {},
   "source": [
    "Estos comandos configuran globalmente tu nombre y correo electrónico para todos los repositorios en tu máquina. Esta información es crucial para la colaboración y el seguimiento de cambios."
   ]
  },
  {
   "cell_type": "markdown",
   "id": "4f068986-7324-455c-85c9-90331ef17504",
   "metadata": {},
   "source": [
    "## Fundamentos de Git\n",
    "1. Creación de un repositorio\n",
    "- Inicialización de un repositorio local: Para empezar un nuevo proyecto con Git, primero debes crear un nuevo repositorio o inicializar uno existente. Esto se hace con el comando git init, el cual crea un nuevo subdirectorio .git en tu proyecto, estableciendo la base para tu repositorio. Aquí es donde Git almacena el historial de cambios."
   ]
  },
  {
   "cell_type": "raw",
   "id": "1809d4e2-7675-4fd1-9657-7b3f26eec943",
   "metadata": {},
   "source": [
    "mkdir mi-proyecto\n",
    "cd mi-proyecto\n",
    "git init"
   ]
  },
  {
   "cell_type": "markdown",
   "id": "9f3e96f3-cdd3-4a1a-afc9-fa31e26bf093",
   "metadata": {},
   "source": [
    "- Clonación de un repositorio remoto: Si deseas trabajar en un proyecto existente que se encuentra alojado en un servidor remoto (como GitHub o GitLab), puedes clonar ese repositorio a tu máquina local usando git clone. Esto crea una copia local del repositorio, incluyendo todo el historial de cambios."
   ]
  },
  {
   "cell_type": "raw",
   "id": "40a8f678-92a2-45c9-9f9c-45e3e78cf5ff",
   "metadata": {},
   "source": [
    "git clone https://url-del-repositorio-remoto.git"
   ]
  },
  {
   "cell_type": "markdown",
   "id": "8a100410-6adb-41b7-a6bb-69385ac263aa",
   "metadata": {},
   "source": [
    "2. Trabajando con commits\n",
    "- Staging y commit de cambios: Antes de registrar un cambio en el historial de tu proyecto, debes agregar los archivos modificados al área de \"staging\" con git add. Una vez que tus cambios están listos, utilizas git commit para crear un nuevo commit con esos cambios."
   ]
  },
  {
   "cell_type": "raw",
   "id": "ccf45f48-57e1-4e4b-b960-ed37613c969c",
   "metadata": {},
   "source": [
    "git add archivo_modificado.txt\n",
    "git commit -m \"Descripción del cambio realizado\""
   ]
  },
  {
   "cell_type": "markdown",
   "id": "4d605bf8-861b-48b0-94c6-d5e8f9fb0c1a",
   "metadata": {},
   "source": [
    "- Revisión del historial de commits: Puedes revisar el historial de commits y ver los cambios realizados usando el comando git log. Este comando muestra una lista de commits, incluyendo el autor, la fecha y el mensaje de cada commit."
   ]
  },
  {
   "cell_type": "raw",
   "id": "ccdc47bb-9a14-4af4-88f5-18b92b207fb6",
   "metadata": {},
   "source": [
    "git log"
   ]
  },
  {
   "cell_type": "markdown",
   "id": "0a957c3e-2631-4d40-975b-a0cfb67241a8",
   "metadata": {},
   "source": [
    "- Uso de git log para explorar la historia: Git ofrece varias opciones para filtrar y formatear el historial de commits, lo que facilita la búsqueda de cambios específicos o la revisión de la historia de un proyecto."
   ]
  },
  {
   "cell_type": "raw",
   "id": "814076ac-7b0c-4bfd-8796-0c762a0c8fa3",
   "metadata": {},
   "source": [
    "git log --oneline\n",
    "git log --since=\"2023-01-01\"\n",
    "git log --author=\"Nombre del Autor\""
   ]
  },
  {
   "cell_type": "markdown",
   "id": "a72c1941-a6cd-4ca4-aff2-55d212de2ac9",
   "metadata": {},
   "source": [
    "3. Trabajando con branches\n",
    "- Creación y cambio entre branches: Las branches permiten desarrollar características, arreglar bugs o experimentar en un entorno aislado sin afectar el código principal. Crear una nueva branch y cambiar entre branches se logra con git branch y git checkout."
   ]
  },
  {
   "cell_type": "raw",
   "id": "f0c9c036-4d8f-4cba-b90f-40a3f403a583",
   "metadata": {},
   "source": [
    "git branch nueva-feature\n",
    "git checkout nueva-feature"
   ]
  },
  {
   "cell_type": "markdown",
   "id": "0f835a42-100f-40db-a805-33303793c431",
   "metadata": {},
   "source": [
    "- Fusionar branches con merge: Una vez que has terminado de trabajar en una branch, puedes integrar tus cambios en la rama principal (por ejemplo, main o master) usando git merge."
   ]
  },
  {
   "cell_type": "markdown",
   "id": "a9ac2491-67ff-4940-ac80-23a3cfee087d",
   "metadata": {},
   "source": [
    "git checkout main\n",
    "git merge nueva-feature"
   ]
  },
  {
   "cell_type": "markdown",
   "id": "fb1d893d-1bba-4160-92d4-e086402f46c2",
   "metadata": {},
   "source": [
    "- Resolución de conflictos: Durante el merge, pueden surgir conflictos si los mismos archivos han sido modificados de manera diferente en ambas branches. Git marcará estos conflictos en los archivos afectados, y será necesario resolverlos manualmente antes de poder completar el merge."
   ]
  }
 ],
 "metadata": {
  "kernelspec": {
   "display_name": "Python 3 (ipykernel)",
   "language": "python",
   "name": "python3"
  },
  "language_info": {
   "codemirror_mode": {
    "name": "ipython",
    "version": 3
   },
   "file_extension": ".py",
   "mimetype": "text/x-python",
   "name": "python",
   "nbconvert_exporter": "python",
   "pygments_lexer": "ipython3",
   "version": "3.10.12"
  }
 },
 "nbformat": 4,
 "nbformat_minor": 5
}
