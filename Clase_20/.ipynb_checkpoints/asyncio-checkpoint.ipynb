{
  "cells": [
    {
      "cell_type": "markdown",
      "metadata": {},
      "source": [
        "# Guía Completa de `asyncio` en Python\n",
        "\n",
        "Este notebook proporciona una guía detallada sobre cómo usar `asyncio` en Python. `asyncio` es un módulo que permite programar tareas de manera asíncrona y concurrente usando coroutines. Este documento es útil tanto para estudiantes como para profesionales que buscan comprender y aplicar asincronía en sus programas de Python.\n",
        "\n",
        "## Índice\n",
        "\n",
        "1. Introducción a `asyncio` en Python\n",
        "2. `async` y `await`: Coroutines y el Event Loop\n",
        "3. Tareas (`Tasks`) y Programación Concurrente\n",
        "4. Objetos Compatibles con `asyncio`\n",
        "5. Profundización en `await`: Cómo la CPU Interviene en I/O-bound\n",
        "6. Uso de `asyncio.Queue`, `asyncio.Streams`, y `asyncio.Timeouts`\n"
      ]
    },
    {
      "cell_type": "markdown",
      "metadata": {},
      "source": [
        "## 1. Introducción a `asyncio` en Python\n",
        "\n",
        "El módulo `asyncio` de Python permite escribir código concurrente usando la sintaxis `async` y `await`. La asincronía en Python permite gestionar múltiples tareas que se intercalan, lo que resulta útil para operaciones de I/O que podrían bloquear el flujo de un programa.\n",
        "\n",
        "El `asyncio` se diseñó para resolver problemas relacionados con operaciones I/O-bound. Estas son tareas en las que la CPU pasa la mayor parte del tiempo esperando respuestas de otras operaciones, como solicitudes de red, consultas a bases de datos, lectura/escritura en disco, etc. Cuando el tiempo de espera es significativo, la asincronía permite gestionar eficientemente las tareas.\n",
        "\n",
        "Las tareas **CPU-bound**, por otro lado, implican operaciones intensivas para la CPU (como cálculos complejos o procesamiento de imágenes) y generalmente no se benefician de `asyncio`. Para estas, otras técnicas como `multiprocessing` o subprocesos pueden ser más adecuadas."
      ]
    },
    {
      "cell_type": "markdown",
      "metadata": {},
      "source": [
        "## 2. `async` y `await`: Coroutines y el Event Loop\n",
        "\n",
        "`asyncio` permite definir coroutines, que son funciones asíncronas que se pueden pausar y reanudar en puntos específicos de su ejecución. Esto se logra con la sintaxis `async def` para definir coroutines y `await` para pausar y reanudar la ejecución.\n",
        "\n",
        "### Coroutines\n",
        "\n",
        "Una coroutine es una función especial que devuelve un \"coroutine object\" cuando se llama. Esto es similar a las funciones generadoras que devuelven un objeto generador.\n",
        "\n",
        "```python\n",
        "import asyncio\n",
        "\n",
        "async def say_hello():\n",
        "    print(\"Hello\")\n",
        "    await asyncio.sleep(1)  # Espera un segundo sin bloquear el event loop\n",
        "    print(\"World\")\n",
        "\n",
        "asyncio.run(say_hello())\n",
        "```\n",
        "\n",
        "En este ejemplo, `say_hello` es una coroutine que se suspende por 1 segundo con `await asyncio.sleep(1)`. Durante este tiempo de espera, el event loop puede ejecutar otras tareas."
      ]
    },
    {
      "cell_type": "markdown",
      "metadata": {},
      "source": [
        "### Event Loop\n",
        "\n",
        "El event loop es el núcleo de `asyncio`. Su trabajo es ejecutar tareas asíncronas de manera concurrente. Al llamar a `asyncio.run(...)`, se inicia el event loop que se encargará de manejar todas las coroutines registradas.\n",
        "\n",
        "```python\n",
        "async def say_hello():\n",
        "    print(\"Hello\")\n",
        "    await asyncio.sleep(1)\n",
        "    print(\"World\")\n",
        "\n",
        "# Correr el event loop\n",
        "asyncio.run(say_hello())\n",
        "```\n",
        "\n",
        "En este caso, el event loop ejecuta la coroutine `say_hello`, suspendiéndola durante 1 segundo y luego continuando su ejecución."
      ]
    },
    {
      "cell_type": "markdown",
      "metadata": {},
      "source": [
        "### `await`: Pausar y Reanudar\n",
        "\n",
        "La palabra clave `await` se usa para pausar la ejecución de la coroutine actual hasta que la operación asíncrona esperada se complete. Esto libera el control para que el event loop pueda ejecutar otras tareas pendientes.\n",
        "\n",
        "#### Ejemplo con Varias Tareas\n",
        "\n",
        "```python\n",
        "async def say_after(delay, what):\n",
        "    await asyncio.sleep(delay)\n",
        "    print(what)\n",
        "\n",
        "async def main():\n",
        "    task1 = asyncio.create_task(say_after(1, 'Hello'))\n",
        "    task2 = asyncio.create_task(say_after(2, 'World'))\n",
        "\n",
        "    print(\"Waiting for tasks...\")\n",
        "    await task1  # Espera que task1 complete\n",
        "    await task2  # Espera que task2 complete\n",
        "\n",
        "asyncio.run(main())\n",
        "```\n",
        "\n",
        "En este ejemplo, las dos tareas (`task1` y `task2`) se ejecutan de forma concurrente. La salida es:\n",
        "\n",
        "```\n",
        "Waiting for tasks...\n",
        "Hello\n",
        "World\n",
        "```\n",
        "\n",
        "Las tareas se ejecutan en paralelo, y el tiempo de espera para cada una es manejado por el event loop."
      ]
    },
    {
      "cell_type": "markdown",
      "metadata": {},
      "source": [
        "### Desempaquetado con `*` y `await asyncio.gather`\n",
        "\n",
        "Para ejecutar múltiples coroutines al mismo tiempo y esperar a que todas se completen, se puede utilizar `asyncio.gather`. La sintaxis `*` es útil para pasar una lista de tareas como argumentos separados a `gather`.\n",
        "\n",
        "```python\n",
        "async def main():\n",
        "    await asyncio.gather(\n",
        "        say_after(1, 'First'),\n",
        "        say_after(2, 'Second'),\n",
        "        say_after(3, 'Third')\n",
        "    )\n",
        "\n",
        "asyncio.run(main())\n",
        "```\n",
        "\n",
        "En este caso, las tres tareas se ejecutan concurrentemente y el programa espera a que todas completen. La salida será:\n",
        "\n",
        "```\n",
        "First\n",
        "Second\n",
        "Third\n",
        "```\n"
      ]
    }
  ],
  "metadata": {
    "kernelspec": {
      "display_name": "Python 3",
      "language": "python",
      "name": "python3"
    },
    "language_info": {
      "name": "python"
    }
  },
  "nbformat": 4,
  "nbformat_minor": 2
}

