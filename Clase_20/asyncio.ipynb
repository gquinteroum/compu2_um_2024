{
 "cells": [
  {
   "cell_type": "markdown",
   "id": "cc51d433",
   "metadata": {},
   "source": [
    "![image](images/um_logo.png)"
   ]
  },
  {
   "cell_type": "markdown",
   "id": "e56a4901",
   "metadata": {},
   "source": [
    "# Computación II\n"
   ]
  },
  {
   "cell_type": "markdown",
   "id": "8c696dfe",
   "metadata": {},
   "source": [
    "# ***Generadores***\n",
    "https://wiki.python.org/moin/Generators\n",
    "\n",
    "Los generadores son un concepto importante en la programación que se utiliza para crear secuencias de valores de manera eficiente y con bajo consumo de memoria. En términos generales, un generador es una función especial que permite generar valores sobre la marcha, en lugar de calcular y almacenar todos los valores en la memoria de antemano. Esto es especialmente útil cuando se trabaja con secuencias potencialmente grandes o infinitas de datos.\n",
    "\n",
    "En lugar de devolver todos los valores a la vez en una lista o una estructura de datos similar, un generador produce un valor cada vez que se solicita y luego pausa su ejecución hasta que se solicita el siguiente valor. Esto reduce significativamente el uso de memoria y permite trabajar con secuencias potencialmente ilimitadas de datos.\n",
    "\n",
    "En __Python__, los generadores son implementados a través de funciones generadoras. Una función generadora se define utilizando la palabra clave `yield` en lugar de `return`. Cuando una función generadora se llama, no se ejecuta completamente de una sola vez. En su lugar, produce un objeto generador que puede ser utilizado para obtener valores uno a uno.\n",
    "\n"
   ]
  },
  {
   "cell_type": "code",
   "execution_count": null,
   "id": "802a48cd",
   "metadata": {},
   "outputs": [],
   "source": [
    "import time\n",
    "\n",
    "def generador_simple():\n",
    "    print('Vamos a ejecutar el yield 1')\n",
    "    yield 1\n",
    "    #hacer lo que quiera\n",
    "    print('Vamos a ejecutar el yield 2')\n",
    "    yield 2\n",
    "    print('Vamos a ejecutar el yield 3 con mucho tiempo de ejecución')\n",
    "    time.sleep(3)\n",
    "    yield 3\n",
    "\n",
    "gen = generador_simple()\n",
    "\n",
    "for valor in gen:\n",
    "    print(valor)\n"
   ]
  },
  {
   "cell_type": "markdown",
   "id": "54984f8c",
   "metadata": {},
   "source": [
    "El generador `generador_simple()` produce valores del 1 al 3 utilizando yield. Cada vez que se llama a yield, el generador pausa su ejecución y devuelve el valor, y luego se reanuda desde donde se quedó en la siguiente llamada.\n",
    "\n",
    "Los generadores en Python son especialmente útiles cuando se trabaja con grandes conjuntos de datos o cuando se necesita generar secuencias potencialmente infinitas, como números primos o secuencias de Fibonacci. También son una forma eficiente de procesar grandes archivos de datos línea por línea sin cargar todo el archivo en memoria.\n"
   ]
  },
  {
   "cell_type": "code",
   "execution_count": null,
   "id": "2ae846b6",
   "metadata": {},
   "outputs": [],
   "source": [
    "def calcular_pi():# aproximación con serie de Leibniz \n",
    "    suma = 0\n",
    "    signo = 1\n",
    "    denominador = 1\n",
    "\n",
    "    while True:\n",
    "        termino = signo * (1 / denominador)\n",
    "        suma += termino\n",
    "        yield 4 * suma  # Multiplicamos por 4 para obtener una mejor aproximación de π\n",
    "        signo *= -1\n",
    "        denominador += 2\n",
    "\n",
    "# Crear un generador para calcular π\n",
    "generador_pi = calcular_pi()\n",
    "\n",
    "# Imprimir los primeros 10 decimales de π\n",
    "for _ in range(100000):\n",
    "    next(generador_pi)\n",
    "    \n",
    "print(next(generador_pi))\n"
   ]
  },
  {
   "cell_type": "code",
   "execution_count": null,
   "id": "7920a943",
   "metadata": {},
   "outputs": [],
   "source": [
    "import math\n",
    "\n",
    "def calcular_e():\n",
    "    n = 0\n",
    "    e = 0\n",
    "    #while n < 10:\n",
    "    while True:\n",
    "        e += 1/math.factorial(n)\n",
    "        n += 1\n",
    "        yield e #pausa.\n",
    "        \n",
    "    #yield 'Terminé'\n",
    "        \n",
    "generador_e = calcular_e()\n",
    "\n",
    "for _ in range(20):\n",
    "    print(next(generador_e))\n",
    "    \n"
   ]
  },
  {
   "cell_type": "markdown",
   "id": "9ac052c0",
   "metadata": {},
   "source": [
    "### Delegación de generadores\n",
    "La palabra clave from seguida de yield se usa para delegar el control a otro generador en Python. Esto permite que un generador \"padre\" delegue parte de su trabajo a otro generador \"hijo\" y obtenga los valores generados por el generador hijo. Es una característica avanzada de generadores que se utiliza en situaciones donde se desea componer varios generadores en uno solo"
   ]
  },
  {
   "cell_type": "code",
   "execution_count": null,
   "id": "4ba879ad",
   "metadata": {},
   "outputs": [],
   "source": [
    "def generador_hijo():\n",
    "    yield 'A'\n",
    "    yield 'B'\n",
    "\n",
    "def generador_padre():\n",
    "    yield 'X'\n",
    "    yield from generador_hijo()\n",
    "    yield 'Y'\n",
    "\n",
    "# Usar el generador padre\n",
    "for valor in generador_padre():\n",
    "    print(valor)\n",
    "    \n",
    "    \n",
    "#['X', ['A', 'B'], 'Y'] analogía con una lista\n"
   ]
  },
  {
   "cell_type": "markdown",
   "id": "8cc8ebfc",
   "metadata": {},
   "source": [
    "En este ejemplo, tenemos dos generadores: `generador_hijo` y `generador_padre`. El `generador_padre` utiliza `yield from generador_hijo()` para delegar parte de su trabajo al `generador_hijo`. Cuando el generador_padre se ejecuta, produce los valores __'X'__, luego __'A'__ y __'B'__ (que provienen del generador_hijo) y por último, __'Y'__. La palabra clave `yield from` se utiliza para _\"desenrollar\"_ el `generador_hijo` dentro del `generador_padre`."
   ]
  },
  {
   "cell_type": "markdown",
   "id": "7c988b75",
   "metadata": {},
   "source": [
    "### Un mecanismo rústico de asincronismo"
   ]
  },
  {
   "cell_type": "code",
   "execution_count": null,
   "id": "e881c4ec",
   "metadata": {},
   "outputs": [],
   "source": [
    "import time\n",
    "import random\n",
    "\n",
    "# Función generadora para simular la lectura de sensores\n",
    "def leer_sensores():\n",
    "    while True:\n",
    "        sensor1 = random.randint(0, 100)\n",
    "        print('Sensor 1')\n",
    "        time.sleep(1)\n",
    "        yield sensor1 #Si quisiera que la lectura de sensor1 y sensor2 fuese atómica, deberia comentar esta línea\n",
    "        \n",
    "        sensor2 = random.randint(0, 100)\n",
    "        print('Sensor 2')\n",
    "        time.sleep(1)\n",
    "        yield sensor2\n",
    "        \n",
    "        sensor3 = random.randint(0, 100)\n",
    "        print('Sensor 3')\n",
    "        time.sleep(1)\n",
    "        yield sensor3\n",
    "        \n",
    "        sensor4 = random.randint(0, 100)\n",
    "        print('Sensor 4')\n",
    "        time.sleep(1)\n",
    "        yield sensor4\n",
    "        \n",
    "\n",
    "# Función generadora para simular el envío de datos\n",
    "def enviar_datos():\n",
    "    while True:\n",
    "        datos = yield\n",
    "        print(\"Enviando datos:\", datos)\n",
    "        time.sleep(1)\n",
    "\n",
    "# Crear instancias de los generadores\n",
    "generador_lectura = leer_sensores()\n",
    "generador_envio = enviar_datos()\n",
    "next(generador_envio)  # Iniciar el generador de envío\n",
    "\n",
    "# Alternar entre los generadores en un bucle infinito\n",
    "while True:\n",
    "    lectura = next(generador_lectura)\n",
    "    generador_envio.send(lectura1 )\n"
   ]
  },
  {
   "cell_type": "markdown",
   "id": "a34c963b-2e3d-496c-970d-4f81895bd9ff",
   "metadata": {},
   "source": [
    "# Funcionamiento interno de los generadores en Python\n",
    "\n",
    "## 1. Estructura de memoria\n",
    "\n",
    "Cuando se crea un generador, Python asigna una estructura de memoria especial que incluye:\n",
    "\n",
    "- **Frame de ejecución**: Similar a una función normal, pero con estado persistente.\n",
    "- **Código del generador**: Las instrucciones bytecode de la función generadora.\n",
    "- **Estado del generador**: Indica si está en ejecución, suspendido, o terminado.\n",
    "- **Valor de yield**: Almacena el último valor producido por `yield`.\n",
    "\n",
    "## 2. Proceso de ejecución\n",
    "\n",
    "1. **Creación**: \n",
    "   - Al llamar a la función generadora, se crea el objeto generador pero no se ejecuta el código.\n",
    "   - Se inicializa el frame de ejecución con las variables locales.\n",
    "\n",
    "2. **Primera llamada a `next()` o `send(None)`**:\n",
    "   - Se inicia la ejecución del código del generador.\n",
    "   - El generador se ejecuta hasta encontrar un `yield`.\n",
    "   - El estado se guarda (incluyendo la posición en el código) y se suspende la ejecución.\n",
    "   - El valor yielded se devuelve al llamador.\n",
    "\n",
    "3. **Llamadas subsiguientes**:\n",
    "   - Se reanuda la ejecución desde el punto donde se suspendió.\n",
    "   - Se continúa hasta el siguiente `yield` o hasta que termine.\n",
    "\n",
    "## 3. Manejo del stack\n",
    "\n",
    "- Los generadores utilizan un mecanismo llamado \"stack unwinding\" (desenrollado de pila).\n",
    "- Cuando se llega a un `yield`, el frame de ejecución actual se guarda y se retira del stack.\n",
    "- Cuando se reanuda, el frame se restaura en el stack para continuar la ejecución.\n",
    "\n",
    "## 4. Implementación de `send()`\n",
    "\n",
    "- `send()` permite inyectar un valor en el generador.\n",
    "- Internamente, coloca el valor enviado en una ubicación especial del frame del generador.\n",
    "- Cuando se reanuda la ejecución, este valor se usa como el resultado de la expresión `yield`.\n",
    "\n",
    "## 5. Optimizaciones\n",
    "\n",
    "- Python utiliza una técnica llamada \"trampolín\" para generadores encadenados.\n",
    "- Esto permite que los generadores anidados sean tan eficientes como un solo generador.\n",
    "\n",
    "## 6. Generadores asíncronos\n",
    "\n",
    "- Usan `async def` y `await`.\n",
    "- Funcionan de manera similar, pero están diseñados para trabajar con bucles de eventos asíncronos."
   ]
  },
  {
   "cell_type": "markdown",
   "id": "a81fa1a1",
   "metadata": {},
   "source": [
    "# **asyncio**\n",
    "El módulo `asyncio` en Python es una biblioteca que proporciona soporte para la programación asíncrona y concurrente, utilizando la sintaxis de `async` y `await`. Esta biblioteca es parte de la biblioteca estándar de Python y se utiliza para escribir código que puede realizar tareas de manera concurrente sin bloquear el hilo principal de ejecución. `asyncio` es especialmente útil para aplicaciones que requieren operaciones de entrada/salida (E/S) no bloqueantes, como servidores web, clientes de red, tareas de E/S intensivas y más.\n",
    "\n",
    "## Algunos conceptos clave de __asyncio__\n",
    "1. __Corrutinas Asíncronas:__ `asyncio` se basa en el uso de funciones asincrónicas o \"corrutinas asíncronas\", que se definen utilizando la palabra clave `async` antes de la definición de una función. Las corrutinas asíncronas se pueden suspender y reanudar, lo que permite que otras tareas se ejecuten mientras una espera E/S u otras operaciones asincrónicas.\n",
    "\n",
    "2. __await:__ Dentro de una función asincrónica, es posible utilizar la palabra clave `await` para esperar la finalización de una tarea asincrónica, como una operación de E/S o una tarea larga. El uso de `await` permite que el control se devuelva al bucle de eventos de `asyncio` mientras la tarea esperada se completa.\n",
    "\n",
    "3. __Bucle de Eventos:__ `asyncio` utiliza un bucle de eventos para gestionar múltiples tareas asincrónicas de manera concurrente. Este bucle de eventos se encarga de planificar y ejecutar tareas, así como de manejar la comunicación entre ellas.\n",
    "\n",
    "4. __Tareas:__ En `asyncio`, las tareas son unidades de trabajo asincrónico. Es posible crear y ejecutar múltiples tareas concurrentemente, lo que facilita la escritura de código concurrente y paralelo.\n",
    "\n",
    "5. __Gestión de E/S No Bloqueante:__ `asyncio` es particularmente eficaz en la gestión de operaciones de E/S no bloqueantes, como la comunicación en red o la lectura/escritura de archivos. Esto permite que las aplicaciones respondan de manera eficiente a muchas solicitudes simultáneas sin bloquear el hilo principal.\n",
    "\n",
    "6. __Protocolos y Controladores de Eventos:__ `asyncio` proporciona una serie de protocolos y controladores de eventos que permiten trabajar con diferentes tipos de conexiones de red, como TCP, UDP y más."
   ]
  },
  {
   "cell_type": "code",
   "execution_count": null,
   "id": "b7b7b622",
   "metadata": {},
   "outputs": [],
   "source": [
    "import asyncio\n",
    "\n",
    "# Definir una función asincrónica\n",
    "async def hola_mundo():\n",
    "    print(\"Esperando...\")\n",
    "    await asyncio.sleep(1)  # Espera durante 1 segundo (simulando una operación lenta)\n",
    "    print(\"¡Hola, mundo!\")\n",
    "\n",
    "# Crear un bucle de eventos de asyncio\n",
    "async def main():\n",
    "    await hola_mundo()  # Ejecutar la función asincrónica\n",
    "\n",
    "# Ejecutar el bucle de eventos de asyncio\n",
    "asyncio.run(main())\n"
   ]
  },
  {
   "cell_type": "code",
   "execution_count": null,
   "id": "63db6d26",
   "metadata": {},
   "outputs": [],
   "source": [
    "import asyncio\n",
    "import time\n",
    "\n",
    "async def say_after(delay, what):\n",
    "    await asyncio.sleep(delay)\n",
    "    print(what)\n",
    "\n",
    "async def main():\n",
    "    print(f\"started at {time.strftime('%X')}\")\n",
    "\n",
    "    await say_after(1, 'hello')\n",
    "    await say_after(2, 'world')\n",
    "\n",
    "    print(f\"finished at {time.strftime('%X')}\")\n",
    "\n",
    "asyncio.run(main())"
   ]
  },
  {
   "cell_type": "markdown",
   "id": "9c7bddf5",
   "metadata": {},
   "source": [
    "### Creando tareas"
   ]
  },
  {
   "cell_type": "code",
   "execution_count": null,
   "id": "b99e8ca9",
   "metadata": {},
   "outputs": [],
   "source": [
    "import asyncio\n",
    "import time\n",
    "\n",
    "\n",
    "async def say_after(delay, what):\n",
    "    await asyncio.sleep(delay)\n",
    "    print(what)\n",
    "\n",
    "async def main():\n",
    "    task1 = asyncio.create_task(\n",
    "        say_after(1, 'hello'))\n",
    "\n",
    "    task2 = asyncio.create_task(\n",
    "        say_after(2, 'world'))\n",
    "\n",
    "    print(f\"started at {time.strftime('%X')}\")\n",
    "\n",
    "    # Wait until both tasks are completed (should take\n",
    "    # around 2 seconds.)\n",
    "    await task1\n",
    "    await task2\n",
    "\n",
    "    print(f\"finished at {time.strftime('%X')}\")\n",
    "    \n",
    "asyncio.run(main())"
   ]
  },
  {
   "cell_type": "code",
   "execution_count": null,
   "id": "9382ff83",
   "metadata": {},
   "outputs": [],
   "source": [
    "import asyncio\n",
    "\n",
    "# Definir una función asincrónica\n",
    "async def tarea_espera():\n",
    "    print(\"Inicio de la tarea de espera\")\n",
    "    await asyncio.sleep(2)  # Espera durante 2 segundos (simulando una operación lenta)\n",
    "    print(\"Fin de la tarea de espera\")\n",
    "\n",
    "# Definir una función asincrónica\n",
    "async def tarea_impresion():\n",
    "    print(\"Inicio de la tarea de impresión\")\n",
    "    await asyncio.sleep(5)\n",
    "    print(\"Hola, soy una tarea de impresión\")\n",
    "    print(\"Fin de la tarea de impresión\")\n",
    "\n",
    "# Definir una función asincrónica\n",
    "async def tarea_suma():\n",
    "    print(\"Inicio de la tarea de suma\")\n",
    "    await asyncio.sleep(3)\n",
    "    resultado = 10 + 20\n",
    "    print(f\"El resultado de la suma es {resultado}\")\n",
    "    print(\"Fin de la tarea de suma\")\n",
    "\n",
    "# Crear un bucle de eventos de asyncio\n",
    "async def main():\n",
    "    tarea1 = asyncio.create_task(tarea_espera())  # Crear una tarea asincrónica\n",
    "    tarea2 = asyncio.create_task(tarea_impresion())\n",
    "    tarea3 = asyncio.create_task(tarea_suma())\n",
    "\n",
    "    await tarea1  # Esperar a que la tarea de espera termine\n",
    "    await tarea2  # Esperar a que la tarea de impresión termine\n",
    "    await tarea3  # Esperar a que la tarea de suma termine\n",
    "\n",
    "# Ejecutar el bucle de eventos de asyncio\n",
    "asyncio.run(main())"
   ]
  },
  {
   "cell_type": "markdown",
   "id": "743a8eb5",
   "metadata": {},
   "source": [
    "### Un ejemplo con _aiohttp_"
   ]
  },
  {
   "cell_type": "code",
   "execution_count": null,
   "id": "ce859312",
   "metadata": {},
   "outputs": [],
   "source": [
    "import asyncio\n",
    "import aiohttp\n",
    "\n",
    "async def obtener_url(url):\n",
    "    async with aiohttp.ClientSession() as session:\n",
    "        async with session.get(url) as respuesta:\n",
    "            contenido = await respuesta.text()\n",
    "            print(f\"URL: {url}, Longitud del contenido: {len(contenido)}\")\n",
    "\n",
    "async def main():\n",
    "    urls = [\n",
    "        \"https://www.ejemplo.com\",\n",
    "        \"https://www.python.org\",\n",
    "        \"https://www.google.com\"\n",
    "    ]\n",
    "\n",
    "    # Crear tareas asincrónicas para obtener las URL de manera concurrente\n",
    "    tareas = [obtener_url(url) for url in urls]\n",
    "\n",
    "    # Esperar a que se completen todas las tareas\n",
    "    await asyncio.gather(*tareas) #(tareas[0], tareas[1], tareas[3], ....)\n",
    "\n",
    "# Ejecutar el bucle de eventos de asyncio\n",
    "asyncio.run(main())\n"
   ]
  },
  {
   "cell_type": "markdown",
   "id": "7145c570",
   "metadata": {},
   "source": [
    "1. Importamos las bibliotecas `asyncio` y `aiohttp`. `aiohttp` es una biblioteca asincrónica que se utiliza para realizar solicitudes web de manera eficiente en un contexto asincrónico.\n",
    "\n",
    "2. Definimos una función asincrónica `obtener_url(url)` que utiliza `aiohttp` para realizar una solicitud `GET` a una URL dada y luego muestra la longitud del contenido de la respuesta.\n",
    "\n",
    "3. En la función `main()`, creamos una lista de URLs que deseamos solicitar de manera concurrente.\n",
    "\n",
    "4. Luego, creamos una lista de tareas asincrónicas, una por cada URL en la lista, que llamará a `obtener_url(url)`.\n",
    "\n",
    "5. Utilizamos `asyncio.gather(*tareas)` para ejecutar todas las tareas de manera concurrente y esperar a que se completen.\n"
   ]
  },
  {
   "cell_type": "markdown",
   "id": "27ac1bdf",
   "metadata": {},
   "source": [
    "| Característica                 | asyncio                            | threading                        | multiprocessing                  |\n",
    "|---------------------------------|-----------------------------------|----------------------------------|-----------------------------------|\n",
    "| **Modelo de Concurrencia**     | Programación Asincrónica (async/await) | Programación Concurrente (threads) | Programación Concurrente (procesos) |\n",
    "| **Escalamiento**               | Adecuado para alto número de conexiones asincrónicas | Limitado por GIL (Global Interpreter Lock) | Adecuado para CPU-bound tasks     |\n",
    "| **Tipo de Tareas**             | Tareas asincrónicas                | Hilos                            | Procesos                          |\n",
    "| **Uso Eficiente de Recursos**  | Bajo consumo de memoria            | Mayor consumo de memoria          | Mayor consumo de memoria y CPU    |\n",
    "| **Facilidad de Uso**           | Uso de async/await, menos propenso a problemas de concurrencia | Sincronización manual, susceptible a problemas de concurrencia | Sincronización manual, más seguro contra problemas de concurrencia |\n",
    "| **Depuración**                 | Requiere herramientas de depuración asincrónica | Herramientas de depuración estándar | Herramientas de depuración estándar |\n",
    "| **Aplicaciones Típicas**       | Aplicaciones con E/S no bloqueantes, servidores web asincrónicos | Aplicaciones con hilos de interfaz de usuario (UI), aplicaciones con múltiples hilos | Aplicaciones que requieren cálculos intensivos en CPU, procesamiento paralelo |\n"
   ]
  },
  {
   "cell_type": "markdown",
   "id": "e0e7967d",
   "metadata": {},
   "source": [
    "Un tutorial\n",
    "https://medium.com/@ar.aldhafeeri11/part-i-python-asyncio-deep-dive-b639f8d4bc60"
   ]
  }
 ],
 "metadata": {
  "kernelspec": {
   "display_name": "Python 3 (ipykernel)",
   "language": "python",
   "name": "python3"
  },
  "language_info": {
   "codemirror_mode": {
    "name": "ipython",
    "version": 3
   },
   "file_extension": ".py",
   "mimetype": "text/x-python",
   "name": "python",
   "nbconvert_exporter": "python",
   "pygments_lexer": "ipython3",
   "version": "3.10.12"
  }
 },
 "nbformat": 4,
 "nbformat_minor": 5
}
