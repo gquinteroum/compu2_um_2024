{
 "cells": [
  {
   "cell_type": "markdown",
   "id": "cc51d433",
   "metadata": {},
   "source": [
    "<div align=\"center\">\n",
    "    <img src=\"images/um_logo.png\" alt=\"image\">\n",
    "</div>"
   ]
  },
  {
   "cell_type": "markdown",
   "id": "e56a4901",
   "metadata": {},
   "source": [
    "# Computación II\n"
   ]
  },
  {
   "cell_type": "markdown",
   "id": "8c696dfe",
   "metadata": {},
   "source": [
    "# ***getopts***\n",
    "\n",
    "El módulo getopt en Python es otra herramienta para analizar los argumentos de la línea de comandos. Aunque argparse es más poderoso y flexible, getopt puede ser preferido para scripts que necesitan imitar interfaces de comandos Unix tradicionales o para aquellos que prefieren su enfoque. getopt soporta tanto opciones cortas (por ejemplo, -h) como opciones largas (por ejemplo, --help).\n",
    "\n",
    "## Ejemplo Básico con getopt\n",
    "A continuación, se muestra un ejemplo simple de cómo utilizar getopt para crear un script que acepte dos tipos de opciones: una opción corta `-h` (help) y una opción larga `--nombre`.\n"
   ]
  },
  {
   "cell_type": "code",
   "execution_count": null,
   "id": "746ee123-0c03-4f14-aa46-c11f8f159945",
   "metadata": {},
   "outputs": [],
   "source": [
    "import getopt\n",
    "import sys\n",
    "\n",
    "def main(argv):\n",
    "    # Definir las opciones cortas y largas\n",
    "    opciones_cortas = \"h\"\n",
    "    opciones_largas = [\"nombre=\"]\n",
    "    \n",
    "    # Intentar analizar los argumentos de la línea de comandos\n",
    "    try:\n",
    "        argumentos, valores = getopt.getopt(argv, opciones_cortas, opciones_largas)\n",
    "    except getopt.GetoptError:\n",
    "        # Imprimir el modo de uso si se encuentran opciones inválidas\n",
    "        print('Uso: ejemplo_getopt.py -h --nombre <nombre>')\n",
    "        sys.exit(2)\n",
    "        \n",
    "    for argumento, valor in argumentos:\n",
    "        if argumento == '-h':\n",
    "            print('Ayuda: ejemplo_getopt.py -h --nombre <nombre>')\n",
    "            sys.exit()\n",
    "        elif argumento in (\"--nombre\"):\n",
    "            print(f\"Nombre: {valor}\")\n",
    "\n",
    "if __name__ == \"__main__\":\n",
    "    main(sys.argv[1:])\n"
   ]
  },
  {
   "cell_type": "markdown",
   "id": "ffc746e4-f9b8-481a-be9a-7f67379a2df9",
   "metadata": {},
   "source": [
    "### Cómo Ejecutar el Script\n",
    "Supongamos que el script anterior se guarda en un archivo llamado ejemplo_getopt.py. Es posible ejecutar este script desde la línea de comandos de la siguiente manera para proporcionar el nombre usando la opción larga:"
   ]
  },
  {
   "cell_type": "raw",
   "id": "f4b3c5cf-0f62-4d19-ac18-c7d15583cb48",
   "metadata": {},
   "source": [
    "$ python ejemplo_getopt.py --nombre \"Ejemplo\""
   ]
  },
  {
   "cell_type": "markdown",
   "id": "ead45db9-53dd-47c2-9409-04ddbdec08c9",
   "metadata": {},
   "source": [
    "Para mostrar la ayuda se puede ejecutar de la siguiente forma:"
   ]
  },
  {
   "cell_type": "raw",
   "id": "6de42dde-4129-4ccd-becb-020f7063dbb4",
   "metadata": {},
   "source": [
    "$ python ejemplo_getopt.py -h"
   ]
  },
  {
   "cell_type": "markdown",
   "id": "5649bea1-a4eb-4f89-a4a9-c3d5fd8c44b4",
   "metadata": {},
   "source": [
    "# argparse\n",
    "El módulo argparse de Python es una herramienta poderosa para crear interfaces de línea de comandos (CLI) de forma sencilla y eficiente. Proporciona una forma de procesar argumentos y opciones de línea de comandos, permitiendo a los programas recibir configuraciones externas o parámetros de ejecución. Esto es especialmente útil para scripts y aplicaciones que necesitan una configuración flexible o que deben ser ejecutados con diferentes parámetros."
   ]
  },
  {
   "cell_type": "markdown",
   "id": "b371ae8d-4ae0-45d0-9d05-3fcb9d2ffa94",
   "metadata": {},
   "source": [
    "### Características Principales\n",
    "- Definición de argumentos: Permite especificar qué argumentos pueden ser aceptados por el programa y cómo deben ser procesados.\n",
    "- Automatización de mensajes de ayuda: Genera automáticamente mensajes de ayuda y uso del programa basados en los argumentos definidos.\n",
    "- Gestión de errores: Proporciona mensajes de error útiles cuando los usuarios ingresan argumentos inválidos."
   ]
  },
  {
   "cell_type": "markdown",
   "id": "b812147a-1555-425b-a852-fff3a847ace2",
   "metadata": {},
   "source": [
    "### Ejemplo Básico con `argparse`\n",
    "A continuación, se muestra un ejemplo simple de cómo utilizar `argparse` para crear un script que acepte dos argumentos: un número entero y un string opcional."
   ]
  },
  {
   "cell_type": "code",
   "execution_count": null,
   "id": "0e6c59c5-3780-42a4-9461-9996afb8fa31",
   "metadata": {},
   "outputs": [],
   "source": [
    "import argparse\n",
    "\n",
    "# Crear el parser\n",
    "parser = argparse.ArgumentParser(description='Procesa un número entero y una cadena opcional.')\n",
    "\n",
    "# Definir los argumentos que aceptará el programa\n",
    "parser.add_argument('numero', type=int, help='Un número entero')\n",
    "parser.add_argument('--cadena', type=str, help='Una cadena opcional', default='Hola')\n",
    "\n",
    "# Analizar los argumentos de la línea de comandos\n",
    "args = parser.parse_args()\n",
    "\n",
    "# Usar los argumentos en el programa\n",
    "print(f\"El número proporcionado es: {args.numero}\")\n",
    "print(f\"La cadena proporcionada es: {args.cadena}\")\n"
   ]
  },
  {
   "cell_type": "markdown",
   "id": "41b12376-bc5c-44e2-ad8f-ac755a2ca4ab",
   "metadata": {},
   "source": [
    "### Cómo Ejecutar el Script\n",
    "Supongamos que el script anterior se guarda en un archivo llamado ejemplo_argparse.py. Es posible ejecutar este script desde la línea de comandos de la siguiente manera:"
   ]
  },
  {
   "cell_type": "raw",
   "id": "463fa2a6-d369-42c5-9d8c-034c7df983f6",
   "metadata": {},
   "source": [
    "python ejemplo_argparse.py 5 --cadena \"Esto es un ejemplo\""
   ]
  },
  {
   "cell_type": "markdown",
   "id": "0ec9eed4-dad7-4356-a245-d82d6bff6c61",
   "metadata": {},
   "source": [
    "Si no se proporciona la opción --cadena, se usará el valor predeterminado (\"Hola\"):"
   ]
  },
  {
   "cell_type": "raw",
   "id": "3534a645-9b1c-4aaf-a79a-f8943d7821e9",
   "metadata": {},
   "source": [
    "python ejemplo_argparse.py 10"
   ]
  }
 ],
 "metadata": {
  "kernelspec": {
   "display_name": "Python 3 (ipykernel)",
   "language": "python",
   "name": "python3"
  },
  "language_info": {
   "codemirror_mode": {
    "name": "ipython",
    "version": 3
   },
   "file_extension": ".py",
   "mimetype": "text/x-python",
   "name": "python",
   "nbconvert_exporter": "python",
   "pygments_lexer": "ipython3",
   "version": "3.10.12"
  }
 },
 "nbformat": 4,
 "nbformat_minor": 5
}
