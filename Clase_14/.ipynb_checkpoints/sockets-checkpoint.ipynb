{
 "cells": [
  {
   "cell_type": "markdown",
   "id": "cc51d433",
   "metadata": {},
   "source": [
    "![image](images/um_logo.png)"
   ]
  },
  {
   "cell_type": "markdown",
   "id": "e56a4901",
   "metadata": {},
   "source": [
    "# Computación II\n"
   ]
  },
  {
   "cell_type": "markdown",
   "id": "8c696dfe",
   "metadata": {},
   "source": [
    "# ***Sockets II***"
   ]
  },
  {
   "cell_type": "markdown",
   "id": "3134d8a0",
   "metadata": {},
   "source": [
    "## Sockets Pasivos y Activos\n",
    "\n",
    "Se establece una distinción entre los sockets pasivos y activos en el contexto de las comunicaciones de red. Un socket pasivo corresponde a aquel que se encuentra en estado de escucha, aguardando la conexión proveniente de un socket activo. Es el tipo de socket empleado por un programa servidor que aguarda la llegada de conexiones entrantes por parte de sus clientes.\n",
    "\n",
    "Por otro lado, un socket activo denota aquel que proactivamente intenta conectarse a un socket pasivo. Este tipo de socket es el utilizado por los clientes que buscan establecer una comunicación con un servidor determinado."
   ]
  },
  {
   "cell_type": "markdown",
   "id": "ee8cd5ff",
   "metadata": {},
   "source": [
    "\n",
    "## Sockets: Conceptos y Funciones Básicas\n",
    "\n",
    "En la programación de redes, los **sockets** son puntos finales para enviar y recibir datos entre dos nodos en una red. Un socket se define principalmente por tres elementos: el protocolo de red (como TCP o UDP), la dirección IP y el puerto.\n",
    "\n",
    "### Funciones Principales de Sockets en Python\n",
    "\n",
    "1. **`socket()`**:\n",
    "    - Esta función crea un nuevo socket usando el protocolo especificado (por ejemplo, `AF_INET` para IPv4 y `SOCK_STREAM` para TCP).\n",
    "    - **Ejemplo**: `s = socket.socket(socket.AF_INET, socket.SOCK_STREAM)`\n",
    "\n",
    "2. **`bind()`**:\n",
    "    - Asocia el socket a una dirección IP y un puerto específicos.\n",
    "    - **Ejemplo**: `s.bind(('0.0.0.0', 50010))`\n",
    "\n",
    "3. **`listen()`**:\n",
    "    - Coloca el socket en estado de escucha, permitiendo que acepte conexiones entrantes.\n",
    "    - **Ejemplo**: `s.listen(2)` indica que el socket puede tener hasta 2 conexiones en cola.\n",
    "\n",
    "4. **`accept()`**:\n",
    "    - Acepta una conexión entrante. Este es un proceso **bloqueante**, lo que significa que el programa se detendrá aquí hasta que un cliente se conecte.\n",
    "    - **Ejemplo**: `conn, addr = s.accept()`\n",
    "\n",
    "5. **`connect()`**:\n",
    "    - Se usa en el lado del cliente para conectar el socket a un servidor en una dirección IP y puerto específicos.\n",
    "    - **Ejemplo**: `s.connect(('localhost', 50010))`\n",
    "\n",
    "6. **`read()` / `write()`**:\n",
    "    - Métodos utilizados para recibir (`recv`) o enviar (`send`) datos a través de un socket.\n",
    "    - **Ejemplo**: `data = conn.recv(1024)` recibe hasta 1024 bytes de datos.\n",
    "\n",
    "7. **`close()`**:\n",
    "    - Cierra el socket, liberando los recursos asociados con él.\n",
    "    - **Ejemplo**: `s.close()`\n",
    "\n",
    "### Manejo de Errores\n",
    "\n",
    "Es crucial manejar posibles excepciones al trabajar con sockets para garantizar que el programa no falle inesperadamente. Aquí hay un ejemplo modificado del código del socket pasivo con manejo de errores:\n",
    "\n",
    "```python\n",
    "import socket\n",
    "\n",
    "try:\n",
    "    s = socket.socket(socket.AF_INET, socket.SOCK_STREAM)\n",
    "    s.bind(('0.0.0.0', 50010))\n",
    "    s.listen(2)\n",
    "    \n",
    "    while True:\n",
    "        conn, addr = s.accept()\n",
    "        print(f\"Conexión establecida con {addr}\")\n",
    "        \n",
    "        data = conn.recv(1024)\n",
    "        if not data:\n",
    "            break\n",
    "        \n",
    "        conn.sendall(data)\n",
    "        conn.close()\n",
    "\n",
    "except socket.error as e:\n",
    "    print(f\"Error en el socket: {e}\")\n",
    "finally:\n",
    "    s.close()\n",
    "```\n",
    "\n",
    "### Ejercicio Práctico\n",
    "\n",
    "1. **Servidor y Cliente Echo**: Implementa un servidor que reciba datos de un cliente y los reenvíe tal como los recibió. Luego, implementa el cliente correspondiente que envíe un mensaje al servidor y espere la respuesta.\n",
    "\n",
    "2. **Manejo de Múltiples Clientes**: Modifica el servidor anterior para que pueda manejar múltiples clientes simultáneamente utilizando `select` o `threading`.\n"
   ]
  },
  {
   "cell_type": "markdown",
   "id": "4dc5d0a7",
   "metadata": {},
   "source": [
    "## Llamadas a sistema\n",
    "![image](images/llamadas_al_sistema.png)\n"
   ]
  },
  {
   "cell_type": "markdown",
   "id": "17fe9566",
   "metadata": {},
   "source": [
    "## Socket pasivo"
   ]
  },
  {
   "cell_type": "code",
   "execution_count": null,
   "id": "d141afbf",
   "metadata": {},
   "outputs": [],
   "source": [
    "import socket\n",
    "\n",
    "\n",
    "s = socket.socket(socket.AF_INET, socket.SOCK_STREAM)\n",
    "\n",
    "s.bind(('0.0.0.0', 50010))\n",
    "\n",
    "s.listen(2)\n",
    "\n",
    "conn, addr = s.accept()\n",
    "    \n",
    "#data = conn.recv(1024)\n",
    "\n",
    "#conn.sendall(data)\n",
    "\n",
    "conn.close()\n",
    "s.close()"
   ]
  },
  {
   "cell_type": "markdown",
   "id": "5777186c",
   "metadata": {},
   "source": [
    "## Socket activo"
   ]
  },
  {
   "cell_type": "code",
   "execution_count": null,
   "id": "b2017c55",
   "metadata": {},
   "outputs": [],
   "source": [
    "import socket\n",
    "\n",
    "s = socket.socket(socket.AF_INET, socket.SOCK_STREAM)\n",
    "\n",
    "s.connect(('localhost', 50010))\n",
    "    \n",
    "#data = conn.recv(1024)\n",
    "\n",
    "#conn.sendall(data)\n",
    "\n",
    "s.close()"
   ]
  }
 ],
 "metadata": {
  "kernelspec": {
   "display_name": "Python 3 (ipykernel)",
   "language": "python",
   "name": "python3"
  },
  "language_info": {
   "codemirror_mode": {
    "name": "ipython",
    "version": 3
   },
   "file_extension": ".py",
   "mimetype": "text/x-python",
   "name": "python",
   "nbconvert_exporter": "python",
   "pygments_lexer": "ipython3",
   "version": "3.10.12"
  }
 },
 "nbformat": 4,
 "nbformat_minor": 5
}
