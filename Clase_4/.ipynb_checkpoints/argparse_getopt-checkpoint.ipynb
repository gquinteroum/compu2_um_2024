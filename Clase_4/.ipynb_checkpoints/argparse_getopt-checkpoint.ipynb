{
 "cells": [
  {
   "cell_type": "markdown",
   "id": "cc51d433",
   "metadata": {},
   "source": [
    "<div align=\"center\">\n",
    "    <img src=\"images/um_logo.png\" alt=\"image\">\n",
    "</div>"
   ]
  },
  {
   "cell_type": "markdown",
   "id": "e56a4901",
   "metadata": {},
   "source": [
    "# Computación II\n"
   ]
  },
  {
   "cell_type": "markdown",
   "id": "8c696dfe",
   "metadata": {},
   "source": [
    "# ***Procesos***\n",
    "\n",
    "## Introducción a la Arquitectura de Linux\n",
    "Linux es un sistema operativo de código abierto que se basa en el kernel de Linux. Es un sistema operativo tipo Unix, lo que significa que sigue las especificaciones y estándares establecidos por Unix, proporcionando un entorno similar. La arquitectura general de Linux puede entenderse en tres capas principales:\n",
    "\n",
    "__1. El Kernel:__ Es el núcleo del sistema operativo. Gestiona la comunicación entre el hardware y los programas de software. El kernel es responsable de la gestión de memoria, la planificación de procesos, el manejo de dispositivos, el sistema de archivos, y la gestión de la seguridad. Existen diferentes variantes del kernel de Linux, cada una optimizada para ciertos tipos de hardware y usos, pero todas comparten las mismas funcionalidades básicas.\n",
    "\n",
    "__2. El Espacio de Usuario:__ Es el entorno donde se ejecutan las aplicaciones y los shell. A diferencia del kernel, que opera en modo protegido (también conocido como modo kernel), el espacio de usuario funciona en un modo menos privilegiado para proteger el sistema de operaciones potencialmente peligrosas o malintencionadas. Las aplicaciones en el espacio de usuario interactúan con el kernel a través de una serie de llamadas al sistema.\n",
    "\n",
    "__3. Las Llamadas al Sistema (System Calls):__ Son la interfaz programática entre el espacio de usuario y el kernel. Permiten que los programas soliciten servicios del kernel, como la creación de procesos, operaciones de entrada/salida y comunicación entre procesos. Cada llamada al sistema tiene un número identificador único y se accede a través de una interfaz proporcionada por el kernel.\n",
    "\n",
    "### El Kernel de Linux\n",
    "El kernel es el corazón del sistema operativo Linux, proporcionando la base sobre la cual se ejecutan todas las demás partes del sistema. \n",
    "\n",
    "Está dividido en varias partes importantes:\n",
    "\n",
    "__Manejador de Procesos:__ Controla la creación, planificación y terminación de procesos.\n",
    "\n",
    "__Manejador de Memoria:__ Administra la memoria RAM del sistema, incluyendo la paginación y la segmentación.\n",
    "\n",
    "__Sistema de Archivos:__ Proporciona un mecanismo para almacenar y recuperar datos en dispositivos de almacenamiento.\n",
    "\n",
    "__Subsistema de Red:__ Facilita la comunicación entre sistemas a través de la red.\n",
    "\n",
    "__Interfaz de Dispositivos:__ Gestiona la comunicación con hardware como discos duros, dispositivos de entrada, etc.\n",
    "\n",
    "### API de Llamadas al Sistema\n",
    "La API de llamadas al sistema es un conjunto estandarizado de funciones disponibles en el espacio de usuario, que permiten interactuar con el kernel. Estas llamadas son esenciales para realizar operaciones fundamentales sin acceder directamente al hardware, ofreciendo una capa de abstracción que simplifica la programación de aplicaciones. Algunas de las llamadas al sistema más comunes incluyen `fork()`, `exec()`, `wait()`, `open()`, `read()`, `write()`, y `close()`.\n",
    "\n",
    "La forma en que los programas en el espacio de usuario invocan estas llamadas varía según el lenguaje de programación, pero en C, por ejemplo, se proporcionan a través de la biblioteca estándar de C (libc). Esta biblioteca actúa como un puente entre el código de aplicación y el kernel, realizando la transición del espacio de usuario al espacio del kernel donde se ejecuta la llamada al sistema.\n"
   ]
  },
  {
   "cell_type": "markdown",
   "id": "6e4500bc-3b75-448b-bceb-d88d97db501c",
   "metadata": {},
   "source": [
    "## Prioridades de Procesos\n",
    "En Linux, cada proceso se asigna con una prioridad que ayuda al planificador del kernel a decidir cuánto tiempo de CPU debe dedicarse a cada proceso. Esta prioridad es esencial para asegurar que los procesos críticos reciban más tiempo de CPU que aquellos menos importantes.\n",
    "\n",
    "### Nice Value\n",
    "El \"nice value\" es un valor que determina la cortesía de un proceso respecto al uso del CPU. Puede tener un rango de -20 (la mayor prioridad) a 19 (la menor prioridad). Los procesos con un valor de nice bajo son menos \"amables\", lo que significa que tienen mayor prioridad y reciben más tiempo de CPU. Por defecto, los procesos suelen iniciarse con un valor de nice de 0.\n",
    "\n",
    "Para ajustar el valor de nice de un proceso, se pueden utilizar los comandos nice y renice en la terminal. Por ejemplo, para iniciar un nuevo proceso con un valor de nice de 10, se usaría:"
   ]
  },
  {
   "cell_type": "raw",
   "id": "5f6f52a9-f781-49c5-bcce-de62cddacc71",
   "metadata": {},
   "source": [
    "nice -n 10 comando"
   ]
  },
  {
   "cell_type": "markdown",
   "id": "9401f899-3d44-49a4-a144-b6f69881c21f",
   "metadata": {},
   "source": [
    "Para modificar el valor de nice de un proceso en ejecución, se utilizaría:"
   ]
  },
  {
   "cell_type": "raw",
   "id": "1291cf3a-2fc8-40db-b414-46a958dc1f1d",
   "metadata": {},
   "source": [
    "renice 5 -p ID_DEL_PROCESO"
   ]
  },
  {
   "cell_type": "markdown",
   "id": "049c1e55-d701-4418-a490-d9051f4c14c6",
   "metadata": {},
   "source": [
    "Este comando cambia el valor de nice del proceso especificado por su ID a 5, aumentando su prioridad."
   ]
  },
  {
   "cell_type": "markdown",
   "id": "4543d328-6b64-4bdc-8c57-55c0fb14f89d",
   "metadata": {},
   "source": [
    "### Prioridad real\n",
    "La prioridad real en Linux es un número que el kernel utiliza internamente para planificar la ejecución de los procesos. Se calcula a partir del valor de nice, pero también considera otros factores como la cantidad de tiempo de CPU que el proceso ha utilizado recientemente. Esto ayuda a evitar que un proceso acapare el CPU.\n",
    "\n",
    "El rango de la prioridad real es más amplio que el de los valores de nice, permitiendo una granularidad más fina en la planificación de procesos.\n",
    "\n",
    "### Planificador de Procesos\n",
    "El planificador de Linux utiliza las prioridades para decidir cuándo y por cuánto tiempo se ejecutan los procesos. Linux cuenta con varios algoritmos de planificación, incluido el Completely Fair Scheduler (CFS), que es el predeterminado. El CFS intenta asegurar que todos los procesos reciban una cantidad justa de tiempo de CPU, basándose en sus prioridades y el tiempo de CPU ya consumido.\n",
    "\n",
    "### Impacto de las Prioridades en el Rendimiento del Sistema\n",
    "Ajustar las prioridades de los procesos puede ser una herramienta poderosa para los administradores de sistemas, permitiéndoles optimizar el rendimiento del sistema para las tareas críticas. Sin embargo, es importante usar esta herramienta con precaución, ya que aumentar la prioridad de un proceso puede conducir a que otros procesos reciban menos tiempo de CPU, potencialmente degradando el rendimiento del sistema en otros aspectos.\n",
    "\n",
    "### Ejemplo Práctico\n",
    "Imagina que tienes una aplicación de copia de seguridad que deseas que tenga menos prioridad para minimizar su impacto en el rendimiento del sistema. Puedes iniciar esta aplicación con un valor de nice de 10 de la siguiente manera:"
   ]
  },
  {
   "cell_type": "raw",
   "id": "5a7e0eec-0418-41ce-9f56-c0d2ffcadcf9",
   "metadata": {},
   "source": [
    "nice -n 10 rsync -a /home/user /backup/user"
   ]
  },
  {
   "cell_type": "markdown",
   "id": "de765f4b-c92d-4780-800e-41f5c80c0f1d",
   "metadata": {},
   "source": [
    "Este comando inicia `rsync`, una herramienta común para copias de seguridad, con un valor de nice de 10, reduciendo su prioridad y, por lo tanto, su impacto en el rendimiento del sistema durante su ejecución."
   ]
  },
  {
   "cell_type": "markdown",
   "id": "b5a2ec20-7571-4fe6-8189-ee411e3a6cd4",
   "metadata": {},
   "source": [
    "## Llamadas al Sistema\n",
    "Las llamadas al sistema son el mecanismo primordial a través del cual los programas en el espacio de usuario solicitan servicios del kernel de Linux. Actúan como una interfaz entre el programa y el núcleo del sistema operativo, permitiendo a los programas realizar operaciones que de otro modo estarían restringidas, como el acceso directo al hardware o la modificación de tablas de procesos. Estas operaciones incluyen:\n",
    "\n",
    "Gestión de procesos (por ejemplo, `fork()`, `exit()`, `wait()`).\n",
    "Manejo de archivos y directorios (por ejemplo, `open()`, `read()`, `write()`, `close()`).\n",
    "Comunicación entre procesos (por ejemplo, tuberías, señales).\n",
    "Gestión de memoria (por ejemplo, `mmap()`, `brk()`).\n",
    "Cada llamada al sistema tiene un número único asociado y los programas usualmente invocan estas llamadas a través de wrappers proporcionados por la biblioteca estándar de C (libc) o por otras bibliotecas de alto nivel, en lugar de invocarlas directamente.\n",
    "\n",
    "Funcionamiento de las Llamadas al Sistema\n",
    "Cuando un programa realiza una llamada al sistema:\n",
    "\n",
    "1. El programa invoca la llamada al sistema utilizando una función proporcionada por libc u otra biblioteca, pasando los argumentos requeridos.\n",
    "2. La biblioteca de funciones envuelve la llamada al sistema, colocando su número identificador y los argumentos en los lugares específicos donde el kernel espera encontrarlos (generalmente, en registros específicos del procesador).\n",
    "3. La biblioteca ejecuta una instrucción especial (syscall en x86-64, por ejemplo) que cambia la ejecución del modo usuario al modo kernel, señalando al kernel para que atienda la solicitud.\n",
    "4. El kernel toma el control, identifica la llamada al sistema basándose en su número identificador y ejecuta la función correspondiente.\n",
    "5. Una vez que la operación se completa, el control se devuelve al espacio de usuario y la ejecución del programa continúa.\n",
    "\n",
    "### Ejemplo Práctico: `fork()`\n",
    "Una de las llamadas al sistema más fundamentales en programación de sistemas Unix-like es `fork()`. Esta llamada crea un nuevo proceso duplicando el proceso existente. Veamos un ejemplo simple en Python:"
   ]
  },
  {
   "cell_type": "code",
   "execution_count": null,
   "id": "8fab9b43-68a9-49bd-8f7b-aaab11a07438",
   "metadata": {},
   "outputs": [],
   "source": [
    "import os\n",
    "\n",
    "def main():\n",
    "    print(f\"Proceso padre PID: {os.getpid()}\")\n",
    "\n",
    "    pid = os.fork()\n",
    "\n",
    "    if pid == 0:\n",
    "        # Código ejecutado por el proceso hijo\n",
    "        print(f\"Este es el proceso hijo, PID: {os.getpid()}\")\n",
    "    elif pid > 0:\n",
    "        # Código ejecutado por el proceso padre\n",
    "        print(f\"Este es el proceso padre, PID todavía: {os.getpid()}\")\n",
    "        os.wait()  # El padre espera a que el hijo termine\n",
    "    else:\n",
    "        # fork falló\n",
    "        print(\"fork falló\")\n",
    "\n",
    "if __name__ == \"__main__\":\n",
    "    main()\n"
   ]
  },
  {
   "cell_type": "markdown",
   "id": "d0f4ec48-967b-4288-ae7b-8275a2f5e840",
   "metadata": {},
   "source": [
    "## Procesos Hijo y Fork\n",
    "En sistemas operativos basados en Unix, como Linux, la creación y gestión de procesos es una tarea fundamental. Uno de los mecanismos más importantes para la creación de procesos es la llamada al sistema `fork()`. Aprenderemos el concepto de procesos hijo y la operación de `fork()`, explorando cómo funcionan y cómo se utilizan en la programación de sistemas.\n",
    "\n",
    "1. Procesos Hijo\n",
    "Un proceso hijo es un proceso creado por otro proceso (el proceso padre) mediante una llamada al sistema `fork()`. El proceso hijo es, en esencia, una copia del proceso padre en el momento de la llamada `fork()`. Hereda la mayoría de los atributos del proceso padre, incluyendo el código en ejecución, las variables, el entorno de ejecución y los descriptores de archivo abiertos.\n",
    "\n",
    "2. La Llamada al Sistema `fork()`\n",
    "La función fork() crea un nuevo proceso duplicando el proceso existente. Desde la perspectiva del proceso padre, fork() devuelve el PID (identificador de proceso) del proceso hijo creado. Desde la perspectiva del proceso hijo, `fork()` devuelve 0. Si `fork()` falla por alguna razón (por ejemplo, si el sistema no tiene suficientes recursos para crear un nuevo proceso), devuelve -1 al proceso padre.\n",
    "\n",
    "### Comportamiento de fork()\n",
    "Espacio de Direcciones: El proceso hijo recibe una copia del espacio de direcciones del padre. Cualquier cambio en el espacio de direcciones del proceso hijo no afecta al padre, y viceversa.\n",
    "Descriptores de Archivo: Por defecto, el proceso hijo hereda los descriptores de archivo abiertos del padre. Esto permite que tanto el padre como el hijo lean o escriban en los mismos archivos si es necesario.\n",
    "Programa Ejecutando: Después de fork(), tanto el proceso padre como el hijo continúan ejecutándose desde el punto donde se realizó la llamada a fork(). Sin embargo, a menudo el proceso hijo llama a exec() para ejecutar un programa diferente."
   ]
  },
  {
   "cell_type": "markdown",
   "id": "dcbfa289-7c36-4379-acc0-f69cc3b6c5d2",
   "metadata": {},
   "source": [
    "# Apéndice\n",
    "## Paginacion y segmentación de memoria\n",
    "La paginación y la segmentación son técnicas utilizadas para administrar la memoria en sistemas informáticos, facilitando su uso eficiente y permitiendo que múltiples procesos compartan la memoria RAM de manera segura y efectiva. Ambas técnicas abordan el problema de cómo asignar la memoria a los procesos y cómo manejar el espacio de memoria limitado, pero lo hacen de maneras diferentes.\n",
    "\n",
    "## Paginación\n",
    "La paginación es una técnica de administración de memoria que divide la memoria física y la memoria virtual en bloques de tamaño fijo llamados \"páginas\". La memoria virtual se utiliza para dar a los programas la impresión de que tienen acceso a una gran cantidad de memoria contigua, independientemente de la cantidad de memoria física disponible. Cada vez que un programa necesita acceder a una dirección de memoria, el sistema operativo traduce esta dirección virtual en una dirección física en la memoria RAM.\n",
    "\n",
    "Los beneficios de la paginación incluyen:\n",
    "\n",
    "- Simplicidad y flexibilidad: Al trabajar con bloques de tamaño fijo, la paginación simplifica la administración de memoria.\n",
    "- Seguridad y aislamiento: Cada proceso tiene su propio espacio de direcciones virtual, lo que ayuda a prevenir que los procesos interfieran entre sí.\n",
    "- Uso eficiente de la memoria: La paginación permite el uso de técnicas como el intercambio (swapping) para mover páginas entre la memoria física y el disco, optimizando el uso de la memoria.\n",
    "\n",
    "## Segmentación\n",
    "La segmentación, por otro lado, es una técnica de administración de memoria que divide la memoria en segmentos de longitud variable según las necesidades lógicas y estructurales de los programas. Cada segmento puede contener diferentes tipos de datos, como el código del programa, los datos del programa, y el stack. A diferencia de la paginación, que utiliza bloques de tamaño fijo, la segmentación se ajusta más naturalmente a la estructura lógica de los programas.\n",
    "\n",
    "Los beneficios de la segmentación incluyen:\n",
    "\n",
    "- Correspondencia lógica: Los segmentos pueden organizarse de manera que reflejen la estructura del programa, como separar el código, los datos y el stack.\n",
    "- Flexibilidad: Al permitir segmentos de tamaño variable, la segmentación puede ser más eficiente con el espacio de memoria, asignando solo el espacio necesario.\n",
    "- Facilidad de compartición y protección: Es más fácil compartir y proteger los segmentos ya que pueden asignarse permisos específicos a segmentos específicos (por ejemplo, solo lectura para el código).\n",
    "\n",
    "## Comparación y Uso Conjunto\n",
    "Aunque la paginación y la segmentación abordan problemas similares, su enfoque y beneficios son distintos. En algunos sistemas operativos modernos, se utilizan juntas para aprovechar las ventajas de ambas. Por ejemplo, un sistema podría usar segmentación para organizar el espacio de memoria de manera lógica y paginación para administrar la memoria física de manera eficiente.\n",
    "\n",
    "Cada técnica tiene sus propias ventajas y puede ser más adecuada para diferentes tipos de aplicaciones y requisitos del sistema. La elección entre paginación, segmentación, o una combinación de ambas, depende de las necesidades específicas de administración de memoria del sistema operativo y de las aplicaciones que se ejecutan en él.\n",
    "\n",
    "## Llamadas a sistema\n",
    "| Llamada al Sistema | Descripción                                                                 |\n",
    "|--------------------|-----------------------------------------------------------------------------|\n",
    "| `fork()`           | Crea un nuevo proceso duplicando el proceso existente.                      |\n",
    "| `exit()`           | Termina el proceso actual y libera los recursos asociados.                  |\n",
    "| `wait()`           | Espera a que un proceso hijo termine y recoge su estado de salida.          |\n",
    "| `exec()`           | Reemplaza el programa actual en el proceso actual con uno nuevo.           |\n",
    "| `open()`           | Abre un archivo y devuelve un descriptor de archivo.                        |\n",
    "| `read()`           | Lee datos de un descriptor de archivo en un búfer.                          |\n",
    "| `write()`          | Escribe datos de un búfer a un descriptor de archivo.                       |\n",
    "| `close()`          | Cierra un descriptor de archivo, liberando cualquier recurso asociado.     |\n",
    "| `pipe()`           | Crea un par de descriptores de archivo conectados entre sí para IPC.        |\n",
    "| `dup()`            | Duplica un descriptor de archivo, creando una copia del mismo.              |\n",
    "| `kill()`           | Envía una señal a un proceso o a un grupo de procesos.                      |\n",
    "| `getpid()`         | Devuelve el PID (identificador de proceso) del proceso actual.              |\n",
    "| `getppid()`        | Devuelve el PID del proceso padre del proceso actual.                       |\n",
    "| `chdir()`          | Cambia el directorio de trabajo actual del proceso.                         |\n",
    "| `mkdir()`          | Crea un nuevo directorio.                                                    |\n",
    "| `rmdir()`          | Elimina un directorio vacío.                                                 |\n",
    "| `lseek()`          | Cambia la posición de lectura/escritura en un descriptor de archivo.        |\n",
    "| `mmap()`           | Mapea un archivo o dispositivo en memoria.                                   |\n",
    "| `munmap()`         | Desmapea un segmento de memoria.                                             |\n",
    "| `fork()`           | Crea un proceso hijo que es una copia del proceso padre.                     |\n",
    "| `execve()`         | Ejecuta un programa, reemplazando el proceso actual con el nuevo programa.  |\n",
    "| `waitpid()`        | Espera por cambios en el estado de un proceso hijo específico.              |\n",
    "| `signal()`         | Establece el manejador de una señal.                                         |\n",
    "| `ioctl()`          | Controla un dispositivo.                                                     |\n",
    "| `fstat()`          | Obtiene el estado de un archivo.                                             |\n",
    "| `stat()`           | Obtiene el estado de un archivo basado en su nombre.                         |\n",
    "| `link()`           | Crea un nuevo enlace (una entrada de directorio adicional) para un archivo existente. |\n",
    "| `unlink()`         | Elimina un enlace a un archivo, lo que puede resultar en la eliminación del archivo si era el último enlace. |\n"
   ]
  }
 ],
 "metadata": {
  "kernelspec": {
   "display_name": "Python 3 (ipykernel)",
   "language": "python",
   "name": "python3"
  },
  "language_info": {
   "codemirror_mode": {
    "name": "ipython",
    "version": 3
   },
   "file_extension": ".py",
   "mimetype": "text/x-python",
   "name": "python",
   "nbconvert_exporter": "python",
   "pygments_lexer": "ipython3",
   "version": "3.10.12"
  }
 },
 "nbformat": 4,
 "nbformat_minor": 5
}
