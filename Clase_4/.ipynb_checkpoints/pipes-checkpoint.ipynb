{
 "cells": [
  {
   "cell_type": "markdown",
   "id": "cc51d433",
   "metadata": {},
   "source": [
    "<div align=\"center\">\n",
    "    <img src=\"images/um_logo.png\" alt=\"image\">\n",
    "</div>"
   ]
  },
  {
   "cell_type": "markdown",
   "id": "e56a4901",
   "metadata": {},
   "source": [
    "# Computación II\n"
   ]
  },
  {
   "cell_type": "markdown",
   "id": "8c696dfe",
   "metadata": {},
   "source": [
    "# ***Pipes***\n",
    "\n",
    "# Pipes en Linux: Comunicación entre Procesos\n",
    "\n",
    "Los pipes, conocidos también como tuberías, son una característica fundamental en los sistemas operativos tipo Unix, como Linux. Permiten la comunicación y el paso de información entre procesos. Utilizando esta técnica, la salida de un proceso puede ser utilizada directamente como entrada de otro, lo cual es una parte esencial del enfoque de programación que combina comandos pequeños pero poderosos para realizar tareas complejas.\n",
    "\n",
    "## Conceptos Clave de los Pipes\n",
    "\n",
    "### ¿Qué es un Pipe?\n",
    "\n",
    "Un pipe es un canal de comunicación unidireccional que conecta la salida estándar (stdout) de un proceso con la entrada estándar (stdin) de otro. Esto permite que los programas se comuniquen entre sí sin necesidad de escribir o leer desde el sistema de archivos.\n",
    "\n",
    "### Descriptores de Archivos y Pipes\n",
    "\n",
    "Cada proceso en un sistema Unix-like tiene asociado un conjunto de descriptores de archivos que apuntan a archivos, dispositivos o pipes. Los descriptores de archivos 0, 1 y 2 están reservados para la entrada estándar, la salida estándar y el error estándar, respectivamente. Cuando se crea un pipe, el sistema operativo proporciona un par de descriptores de archivos: uno para leer del pipe y otro para escribir en él.\n",
    "\n",
    "### Creación y Uso de Pipes en la Shell\n",
    "\n",
    "Los pipes se crean en la línea de comandos utilizando el carácter `|`. Por ejemplo, el comando `ls | grep \"txt\"` pasa la salida del comando `ls` (que lista los archivos y directorios) a `grep`, que filtra aquellos que contienen la cadena \"txt\".\n",
    "\n",
    "## Ejemplo en Línea de Comandos\n",
    "\n",
    "Consideremos un ejemplo simple que utiliza `grep` para buscar archivos de texto que contienen una palabra específica y `wc` para contar el número de ocurrencias:\n",
    "\n",
    "```bash\n",
    "grep \"palabra_clave\" *.txt | wc -l\n"
   ]
  },
  {
   "cell_type": "markdown",
   "id": "8e6afcef-4840-4614-98a7-833b47257678",
   "metadata": {},
   "source": [
    "## os.pipe()\n",
    "https://docs.python.org/3/library/os.html#os.pipe"
   ]
  },
  {
   "cell_type": "markdown",
   "id": "e76b161f-8f41-4b6c-9bca-6d754c23298d",
   "metadata": {},
   "source": [
    "# Comunicación entre Procesos con os.pipe() en Python\n",
    "\n",
    "Python ofrece varias maneras de facilitar la comunicación entre procesos. Una de las herramientas más básicas y potentes disponibles es `os.pipe()`, proporcionada por el módulo `os`. Este método crea un par de descriptores de archivo, uno para lectura y otro para escritura, que pueden ser utilizados para la comunicación interprocesos (IPC).\n",
    "\n",
    "## ¿Qué es os.pipe()?\n",
    "\n",
    "`os.pipe()` es una función en Python que invoca la llamada al sistema `pipe()` disponible en sistemas operativos tipo Unix. La función `pipe()` crea un canal de comunicación unidireccional que puede ser utilizado para que los procesos se envíen datos entre sí. Este canal está implementado en el sistema operativo como un buffer de tamaño limitado.\n",
    "\n",
    "## Cómo Funciona os.pipe()\n",
    "\n",
    "Cuando se llama a `os.pipe()`, se devuelven dos descriptores de archivo:\n",
    "\n",
    "- El primero (`r`) se utiliza para leer los datos que se envían a través del pipe.\n",
    "- El segundo (`w`) se utiliza para escribir datos en el pipe.\n",
    "\n",
    "Estos descriptores de archivo pueden ser utilizados directamente con otras llamadas al sistema, como `os.read()` y `os.write()`, o pueden ser encapsulados en objetos de archivo de Python utilizando `os.fdopen()` para facilitar la lectura y escritura de datos de alto nivel.\n",
    "\n",
    "## Ejemplo de Uso de os.pipe()\n",
    "\n",
    "El siguiente ejemplo demuestra cómo crear un pipe y utilizarlo para la comunicación entre un proceso padre y un proceso hijo creado mediante `os.fork()`."
   ]
  },
  {
   "cell_type": "code",
   "execution_count": 2,
   "id": "e165431a-43c2-4d4d-90e9-01f624d663da",
   "metadata": {},
   "outputs": [
    {
     "name": "stdout",
     "output_type": "stream",
     "text": [
      "Proceso padre escribiendo\n",
      "Proceso hijo leyendo\n",
      "Hola desde el padre\n"
     ]
    }
   ],
   "source": [
    "import os\n",
    "\n",
    "# Crear un pipe\n",
    "r, w = os.pipe()\n",
    "print(w, r)\n",
    "# Crear un proceso hijo\n",
    "pid = os.fork()\n",
    "if pid > 0:\n",
    "    # Proceso padre\n",
    "    os.close(r)  # Cerrar el extremo de lectura en el padre\n",
    "    w = os.fdopen(w, 'w')\n",
    "    print(\"Proceso padre escribiendo\")\n",
    "    w.write(\"Hola desde el padre\")\n",
    "    w.close()\n",
    "else:\n",
    "    # Proceso hijo\n",
    "    os.close(w)  # Cerrar el extremo de escritura en el hijo\n",
    "    r = os.fdopen(r)\n",
    "    print(\"Proceso hijo leyendo\")\n",
    "    print(r.read())\n",
    "    r.close()"
   ]
  },
  {
   "cell_type": "code",
   "execution_count": null,
   "id": "e66dff48-e011-4566-b28b-3d5fa48107ac",
   "metadata": {},
   "outputs": [],
   "source": []
  }
 ],
 "metadata": {
  "kernelspec": {
   "display_name": "Python 3 (ipykernel)",
   "language": "python",
   "name": "python3"
  },
  "language_info": {
   "codemirror_mode": {
    "name": "ipython",
    "version": 3
   },
   "file_extension": ".py",
   "mimetype": "text/x-python",
   "name": "python",
   "nbconvert_exporter": "python",
   "pygments_lexer": "ipython3",
   "version": "3.10.12"
  }
 },
 "nbformat": 4,
 "nbformat_minor": 5
}
